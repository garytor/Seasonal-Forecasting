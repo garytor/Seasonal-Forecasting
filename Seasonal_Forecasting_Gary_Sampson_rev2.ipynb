{
  "cells": [
    {
      "cell_type": "markdown",
      "id": "cb709a13",
      "metadata": {
        "id": "cb709a13"
      },
      "source": [
        "### **Forecasting EL Nino/Southern Oscillation**\n",
        "**Reference:** Climate Change AI Summer School 2023<br>\n",
        "**Code modified by:** Gary Sampson"
      ]
    },
    {
      "cell_type": "code",
      "source": [
        "!pip install keras_tuner"
      ],
      "metadata": {
        "colab": {
          "base_uri": "https://localhost:8080/"
        },
        "id": "bzl_MlD4au36",
        "outputId": "516454ca-7d8b-4c46-fd47-1634e591c38d"
      },
      "id": "bzl_MlD4au36",
      "execution_count": 2,
      "outputs": [
        {
          "output_type": "stream",
          "name": "stdout",
          "text": [
            "Collecting keras_tuner\n",
            "  Downloading keras_tuner-1.3.5-py3-none-any.whl (176 kB)\n",
            "\u001b[2K     \u001b[90m━━━━━━━━━━━━━━━━━━━━━━━━━━━━━━━━━━━━━━━\u001b[0m \u001b[32m176.1/176.1 kB\u001b[0m \u001b[31m4.4 MB/s\u001b[0m eta \u001b[36m0:00:00\u001b[0m\n",
            "\u001b[?25hRequirement already satisfied: packaging in /usr/local/lib/python3.10/dist-packages (from keras_tuner) (23.1)\n",
            "Requirement already satisfied: requests in /usr/local/lib/python3.10/dist-packages (from keras_tuner) (2.27.1)\n",
            "Collecting kt-legacy (from keras_tuner)\n",
            "  Downloading kt_legacy-1.0.5-py3-none-any.whl (9.6 kB)\n",
            "Requirement already satisfied: urllib3<1.27,>=1.21.1 in /usr/local/lib/python3.10/dist-packages (from requests->keras_tuner) (1.26.16)\n",
            "Requirement already satisfied: certifi>=2017.4.17 in /usr/local/lib/python3.10/dist-packages (from requests->keras_tuner) (2023.7.22)\n",
            "Requirement already satisfied: charset-normalizer~=2.0.0 in /usr/local/lib/python3.10/dist-packages (from requests->keras_tuner) (2.0.12)\n",
            "Requirement already satisfied: idna<4,>=2.5 in /usr/local/lib/python3.10/dist-packages (from requests->keras_tuner) (3.4)\n",
            "Installing collected packages: kt-legacy, keras_tuner\n",
            "Successfully installed keras_tuner-1.3.5 kt-legacy-1.0.5\n"
          ]
        }
      ]
    },
    {
      "cell_type": "code",
      "execution_count": 3,
      "id": "fbc887d3",
      "metadata": {
        "id": "fbc887d3"
      },
      "outputs": [],
      "source": [
        "%matplotlib inline\n",
        "import xarray as xr\n",
        "import pandas as pd\n",
        "import numpy as np\n",
        "from matplotlib import pyplot as plt\n",
        "import sklearn\n",
        "import sklearn.ensemble\n",
        "import scipy.stats\n",
        "import xgboost\n",
        "from sklearn.model_selection import train_test_split\n",
        "from tqdm import tqdm\n",
        "from scipy.stats import pearsonr\n",
        "from scipy.stats import reciprocal, uniform\n",
        "from sklearn.metrics import mean_squared_error\n",
        "from sklearn.linear_model import Ridge\n",
        "from sklearn.linear_model import Lasso\n",
        "from sklearn.ensemble import RandomForestRegressor\n",
        "from sklearn.svm import SVR\n",
        "from sklearn.model_selection import GridSearchCV\n",
        "from sklearn.model_selection import RandomizedSearchCV\n",
        "from sklearn.model_selection import cross_val_score\n",
        "from sklearn.preprocessing import StandardScaler\n",
        "from sklearn.pipeline import make_pipeline\n",
        "from sklearn.model_selection import learning_curve\n",
        "import tensorflow as tf\n",
        "import keras_tuner as kt\n",
        "from functools import partial\n",
        "\n",
        "tf.random.set_seed(42)"
      ]
    },
    {
      "cell_type": "code",
      "execution_count": 4,
      "id": "24744796",
      "metadata": {
        "colab": {
          "base_uri": "https://localhost:8080/"
        },
        "id": "24744796",
        "outputId": "ed6dc149-a9cf-4dd9-c59d-7b3d82727175"
      },
      "outputs": [
        {
          "output_type": "stream",
          "name": "stdout",
          "text": [
            "/usr/local/lib/python3.10/dist-packages/gdown/cli.py:121: FutureWarning: Option `--id` was deprecated in version 4.3.1 and will be removed in 5.0. You don't need to pass it anymore to use a file ID.\n",
            "  warnings.warn(\n",
            "Downloading...\n",
            "From: https://drive.google.com/uc?id=1aGvitA8rYrHRDxNd2XD4AAFsahCQsv0t\n",
            "To: /content/nino34.long.anom.data.txt\n",
            "100% 15.4k/15.4k [00:00<00:00, 49.7MB/s]\n"
          ]
        }
      ],
      "source": [
        "#Download Nino3.4 index (this index measures the state of ENSO by encoding the average\n",
        "#temperature anomaly in the equatorial Pacific)\n",
        "!gdown --id 1aGvitA8rYrHRDxNd2XD4AAFsahCQsv0t"
      ]
    },
    {
      "cell_type": "code",
      "execution_count": 5,
      "id": "58d4748d",
      "metadata": {
        "colab": {
          "base_uri": "https://localhost:8080/"
        },
        "id": "58d4748d",
        "outputId": "e66c6b16-9eb7-49e5-8654-d6c0a611cfc8"
      },
      "outputs": [
        {
          "output_type": "stream",
          "name": "stdout",
          "text": [
            "Downloading...\n",
            "From: https://drive.google.com/uc?id=1-xefk3imP4Q-8GevIV2YIo82iP5rTdSc\n",
            "To: /content/sst.mon.mean.trefadj.anom.1880to2018.nc\n",
            "100% 432M/432M [00:03<00:00, 122MB/s]\n"
          ]
        }
      ],
      "source": [
        "#Download sst observations from 1880 to 2018\n",
        "!gdown 1-xefk3imP4Q-8GevIV2YIo82iP5rTdSc"
      ]
    },
    {
      "cell_type": "code",
      "execution_count": 6,
      "id": "1cdbbba9",
      "metadata": {
        "id": "1cdbbba9"
      },
      "outputs": [],
      "source": [
        "#Data wrangling\n",
        "\n",
        "def load_enso_indices():\n",
        "  \"\"\"\n",
        "  Reads in the txt data file to output a pandas Series of ENSO vals\n",
        "\n",
        "  outputs\n",
        "  -------\n",
        "\n",
        "    pd.Series : monthly ENSO values starting from 1870-01-01\n",
        "  \"\"\"\n",
        "  with open('nino34.long.anom.data.txt') as f:\n",
        "    line = f.readline()\n",
        "    enso_vals = []\n",
        "    while line:\n",
        "        yearly_enso_vals = map(float, line.split()[1:])\n",
        "        enso_vals.extend(yearly_enso_vals)\n",
        "        line = f.readline()\n",
        "\n",
        "  enso_vals = pd.Series(enso_vals)\n",
        "  enso_vals.index = pd.date_range('1870-01-01',freq='MS',\n",
        "                                  periods=len(enso_vals))\n",
        "  enso_vals.index = pd.to_datetime(enso_vals.index)\n",
        "  return enso_vals\n",
        "\n",
        "def assemble_basic_predictors_predictands(start_date, end_date, lead_time,\n",
        "                                    use_pca=False, n_components=32):\n",
        "  \"\"\"\n",
        "  inputs\n",
        "  ------\n",
        "\n",
        "      start_date        str : the start date from which to extract sst\n",
        "      end_date          str : the end date\n",
        "      lead_time         str : the number of months between each sst\n",
        "                              value and the target Nino3.4 Index\n",
        "      use_pca          bool : whether or not to apply principal components\n",
        "                              analysis to the sst field\n",
        "      n_components      int : the number of components to use for PCA\n",
        "\n",
        "  outputs\n",
        "  -------\n",
        "      Returns a tuple of the predictors (np array of sst temperature anomalies)\n",
        "      and the predictands (np array the ENSO index at the specified lead time).\n",
        "\n",
        "  \"\"\"\n",
        "  ds = xr.open_dataset('sst.mon.mean.trefadj.anom.1880to2018.nc')\n",
        "  sst = ds['sst'].sel(time=slice(start_date, end_date))\n",
        "  num_time_steps = sst.shape[0]\n",
        "\n",
        "  #sst is a 3D array: (time_steps, lat, lon)\n",
        "  #in this tutorial, we will not be using ML models that take\n",
        "  #advantage of the spatial nature of global temperature\n",
        "  #therefore, we reshape sst into a 2D array: (time_steps, lat*lon)\n",
        "  #(At each time step, there are lat*lon predictors)\n",
        "  sst = sst.values.reshape(num_time_steps, -1)\n",
        "  sst[np.isnan(sst)] = 0\n",
        "\n",
        "  #Use Principal Components Analysis, also called\n",
        "  #Empirical Orthogonal Functions, to reduce the\n",
        "  #dimensionality of the array\n",
        "  if use_pca:\n",
        "    #create an option to apply the PCA operation learned\n",
        "    #on the train set to the test set.  Currently, PCA is performed\n",
        "    #independently on the train set and test set.\n",
        "    pca = sklearn.decomposition.PCA(n_components=n_components)\n",
        "    pca.fit(sst)\n",
        "    X = pca.transform(sst)\n",
        "  else:\n",
        "    X = sst\n",
        "\n",
        "  start_date_plus_lead = pd.to_datetime(start_date) + \\\n",
        "                        pd.DateOffset(months=lead_time)\n",
        "  end_date_plus_lead = pd.to_datetime(end_date) + \\\n",
        "                      pd.DateOffset(months=lead_time)\n",
        "  y = load_enso_indices()[slice(start_date_plus_lead,\n",
        "                                end_date_plus_lead)]\n",
        "\n",
        "\n",
        "  ds.close()\n",
        "  return X, y\n",
        "\n",
        "def plot_nino_time_series(y, predictions, title):\n",
        "  \"\"\"\n",
        "  inputs\n",
        "  ------\n",
        "    y           pd.Series : time series of the true Nino index\n",
        "    predictions np.array  : time series of the predicted Nino index (same\n",
        "                            length and time as y)\n",
        "    titile                : the title of the plot\n",
        "\n",
        "  outputs\n",
        "  -------\n",
        "    None.  Displays the plot\n",
        "  \"\"\"\n",
        "  predictions = pd.Series(predictions, index=y.index)\n",
        "  predictions = predictions.sort_index()\n",
        "  y = y.sort_index()\n",
        "\n",
        "  plt.plot(y, label='Ground Truth')\n",
        "  plt.plot(predictions, '--', label='ML Predictions')\n",
        "  plt.legend(loc='best')\n",
        "  plt.title(title)\n",
        "  plt.ylabel('Nino3.4 Index')\n",
        "  plt.xlabel('Date')\n",
        "  plt.show()\n",
        "  plt.close()"
      ]
    },
    {
      "cell_type": "code",
      "execution_count": 30,
      "id": "1155fa90",
      "metadata": {
        "id": "1155fa90",
        "outputId": "df644300-ffd2-4162-918a-cdcfeaff62ef",
        "colab": {
          "base_uri": "https://localhost:8080/"
        }
      },
      "outputs": [
        {
          "output_type": "stream",
          "name": "stdout",
          "text": [
            "X_train, y_train shape: (672, 64800) (672,)\n",
            "X_test, y_test shape: (132, 64800) (132,)\n"
          ]
        }
      ],
      "source": [
        "# Get train, val, and test sets\n",
        "X_train, y_train = assemble_basic_predictors_predictands('1950-01-01','2005-12-31', lead_time=3)\n",
        "X_test, y_test = assemble_basic_predictors_predictands('2007-01-01','2017-12-31', lead_time=3)\n",
        "print('X_train, y_train shape:', X_train.shape, y_train.shape)\n",
        "print('X_test, y_test shape:', X_test.shape, y_test.shape)"
      ]
    },
    {
      "cell_type": "code",
      "execution_count": 31,
      "id": "51e46f13",
      "metadata": {
        "id": "51e46f13",
        "outputId": "ab80e89c-9dde-4c84-da65-1b33a01e6fb2",
        "colab": {
          "base_uri": "https://localhost:8080/"
        }
      },
      "outputs": [
        {
          "output_type": "execute_result",
          "data": {
            "text/plain": [
              "(672, 64801)"
            ]
          },
          "metadata": {},
          "execution_count": 31
        }
      ],
      "source": [
        "X_train_df = pd.DataFrame(X_train)\n",
        "y_train_new_idx = y_train.reset_index()\n",
        "train_df = pd.concat([X_train_df, y_train_new_idx], axis=1).drop(['index'], axis=1)\n",
        "train_df.shape"
      ]
    },
    {
      "cell_type": "code",
      "execution_count": 32,
      "id": "23d36408",
      "metadata": {
        "id": "23d36408"
      },
      "outputs": [],
      "source": [
        "#Shuffle the training data then drop the last column to get X_train_shuffle\n",
        "train_df = train_df.sample(frac=1, axis=0 ,random_state=42)"
      ]
    },
    {
      "cell_type": "code",
      "execution_count": 33,
      "id": "ffec9600",
      "metadata": {
        "id": "ffec9600",
        "outputId": "faddca8d-7ee5-429e-8b93-6a8efbd1433f",
        "colab": {
          "base_uri": "https://localhost:8080/"
        }
      },
      "outputs": [
        {
          "output_type": "stream",
          "name": "stdout",
          "text": [
            "X_train_shuffled shape: (672, 64800)\n",
            "y_train_shuffled shape: (672,)\n"
          ]
        }
      ],
      "source": [
        "X_train_shuffled = train_df.iloc[:, :-1]\n",
        "y_train_shuffled = train_df.iloc[:, -1]\n",
        "print('X_train_shuffled shape:',X_train_shuffled.shape)\n",
        "print('y_train_shuffled shape:',y_train_shuffled.shape)"
      ]
    },
    {
      "cell_type": "code",
      "execution_count": 34,
      "id": "c0cd8500",
      "metadata": {
        "id": "c0cd8500",
        "outputId": "21a9d256-1783-4792-81cd-4d2da2165cf8",
        "colab": {
          "base_uri": "https://localhost:8080/"
        }
      },
      "outputs": [
        {
          "output_type": "stream",
          "name": "stdout",
          "text": [
            "mean rms: 0.35242218108776446\n"
          ]
        }
      ],
      "source": [
        "#Ridge Regression\n",
        "regr_3_month_ridge = Ridge(alpha=8000.0, random_state=42)\n",
        "ridge_rmses = -cross_val_score(regr_3_month_ridge, X_train_shuffled, y_train_shuffled,\n",
        "                               scoring=\"neg_root_mean_squared_error\", cv=5)\n",
        "print('mean rms:',ridge_rmses.mean())"
      ]
    },
    {
      "cell_type": "code",
      "execution_count": 35,
      "id": "8e15041a",
      "metadata": {
        "id": "8e15041a",
        "outputId": "789cde29-d786-4de2-ffc6-adba92074977",
        "colab": {
          "base_uri": "https://localhost:8080/",
          "height": 118
        }
      },
      "outputs": [
        {
          "output_type": "execute_result",
          "data": {
            "text/plain": [
              "RandomizedSearchCV(cv=5, estimator=Ridge(),\n",
              "                   param_distributions={'alpha': <scipy.stats._distn_infrastructure.rv_continuous_frozen object at 0x7d2fc7cb84c0>},\n",
              "                   return_train_score=True,\n",
              "                   scoring='neg_root_mean_squared_error')"
            ],
            "text/html": [
              "<style>#sk-container-id-4 {color: black;background-color: white;}#sk-container-id-4 pre{padding: 0;}#sk-container-id-4 div.sk-toggleable {background-color: white;}#sk-container-id-4 label.sk-toggleable__label {cursor: pointer;display: block;width: 100%;margin-bottom: 0;padding: 0.3em;box-sizing: border-box;text-align: center;}#sk-container-id-4 label.sk-toggleable__label-arrow:before {content: \"▸\";float: left;margin-right: 0.25em;color: #696969;}#sk-container-id-4 label.sk-toggleable__label-arrow:hover:before {color: black;}#sk-container-id-4 div.sk-estimator:hover label.sk-toggleable__label-arrow:before {color: black;}#sk-container-id-4 div.sk-toggleable__content {max-height: 0;max-width: 0;overflow: hidden;text-align: left;background-color: #f0f8ff;}#sk-container-id-4 div.sk-toggleable__content pre {margin: 0.2em;color: black;border-radius: 0.25em;background-color: #f0f8ff;}#sk-container-id-4 input.sk-toggleable__control:checked~div.sk-toggleable__content {max-height: 200px;max-width: 100%;overflow: auto;}#sk-container-id-4 input.sk-toggleable__control:checked~label.sk-toggleable__label-arrow:before {content: \"▾\";}#sk-container-id-4 div.sk-estimator input.sk-toggleable__control:checked~label.sk-toggleable__label {background-color: #d4ebff;}#sk-container-id-4 div.sk-label input.sk-toggleable__control:checked~label.sk-toggleable__label {background-color: #d4ebff;}#sk-container-id-4 input.sk-hidden--visually {border: 0;clip: rect(1px 1px 1px 1px);clip: rect(1px, 1px, 1px, 1px);height: 1px;margin: -1px;overflow: hidden;padding: 0;position: absolute;width: 1px;}#sk-container-id-4 div.sk-estimator {font-family: monospace;background-color: #f0f8ff;border: 1px dotted black;border-radius: 0.25em;box-sizing: border-box;margin-bottom: 0.5em;}#sk-container-id-4 div.sk-estimator:hover {background-color: #d4ebff;}#sk-container-id-4 div.sk-parallel-item::after {content: \"\";width: 100%;border-bottom: 1px solid gray;flex-grow: 1;}#sk-container-id-4 div.sk-label:hover label.sk-toggleable__label {background-color: #d4ebff;}#sk-container-id-4 div.sk-serial::before {content: \"\";position: absolute;border-left: 1px solid gray;box-sizing: border-box;top: 0;bottom: 0;left: 50%;z-index: 0;}#sk-container-id-4 div.sk-serial {display: flex;flex-direction: column;align-items: center;background-color: white;padding-right: 0.2em;padding-left: 0.2em;position: relative;}#sk-container-id-4 div.sk-item {position: relative;z-index: 1;}#sk-container-id-4 div.sk-parallel {display: flex;align-items: stretch;justify-content: center;background-color: white;position: relative;}#sk-container-id-4 div.sk-item::before, #sk-container-id-4 div.sk-parallel-item::before {content: \"\";position: absolute;border-left: 1px solid gray;box-sizing: border-box;top: 0;bottom: 0;left: 50%;z-index: -1;}#sk-container-id-4 div.sk-parallel-item {display: flex;flex-direction: column;z-index: 1;position: relative;background-color: white;}#sk-container-id-4 div.sk-parallel-item:first-child::after {align-self: flex-end;width: 50%;}#sk-container-id-4 div.sk-parallel-item:last-child::after {align-self: flex-start;width: 50%;}#sk-container-id-4 div.sk-parallel-item:only-child::after {width: 0;}#sk-container-id-4 div.sk-dashed-wrapped {border: 1px dashed gray;margin: 0 0.4em 0.5em 0.4em;box-sizing: border-box;padding-bottom: 0.4em;background-color: white;}#sk-container-id-4 div.sk-label label {font-family: monospace;font-weight: bold;display: inline-block;line-height: 1.2em;}#sk-container-id-4 div.sk-label-container {text-align: center;}#sk-container-id-4 div.sk-container {/* jupyter's `normalize.less` sets `[hidden] { display: none; }` but bootstrap.min.css set `[hidden] { display: none !important; }` so we also need the `!important` here to be able to override the default hidden behavior on the sphinx rendered scikit-learn.org. See: https://github.com/scikit-learn/scikit-learn/issues/21755 */display: inline-block !important;position: relative;}#sk-container-id-4 div.sk-text-repr-fallback {display: none;}</style><div id=\"sk-container-id-4\" class=\"sk-top-container\"><div class=\"sk-text-repr-fallback\"><pre>RandomizedSearchCV(cv=5, estimator=Ridge(),\n",
              "                   param_distributions={&#x27;alpha&#x27;: &lt;scipy.stats._distn_infrastructure.rv_continuous_frozen object at 0x7d2fc7cb84c0&gt;},\n",
              "                   return_train_score=True,\n",
              "                   scoring=&#x27;neg_root_mean_squared_error&#x27;)</pre><b>In a Jupyter environment, please rerun this cell to show the HTML representation or trust the notebook. <br />On GitHub, the HTML representation is unable to render, please try loading this page with nbviewer.org.</b></div><div class=\"sk-container\" hidden><div class=\"sk-item sk-dashed-wrapped\"><div class=\"sk-label-container\"><div class=\"sk-label sk-toggleable\"><input class=\"sk-toggleable__control sk-hidden--visually\" id=\"sk-estimator-id-10\" type=\"checkbox\" ><label for=\"sk-estimator-id-10\" class=\"sk-toggleable__label sk-toggleable__label-arrow\">RandomizedSearchCV</label><div class=\"sk-toggleable__content\"><pre>RandomizedSearchCV(cv=5, estimator=Ridge(),\n",
              "                   param_distributions={&#x27;alpha&#x27;: &lt;scipy.stats._distn_infrastructure.rv_continuous_frozen object at 0x7d2fc7cb84c0&gt;},\n",
              "                   return_train_score=True,\n",
              "                   scoring=&#x27;neg_root_mean_squared_error&#x27;)</pre></div></div></div><div class=\"sk-parallel\"><div class=\"sk-parallel-item\"><div class=\"sk-item\"><div class=\"sk-label-container\"><div class=\"sk-label sk-toggleable\"><input class=\"sk-toggleable__control sk-hidden--visually\" id=\"sk-estimator-id-11\" type=\"checkbox\" ><label for=\"sk-estimator-id-11\" class=\"sk-toggleable__label sk-toggleable__label-arrow\">estimator: Ridge</label><div class=\"sk-toggleable__content\"><pre>Ridge()</pre></div></div></div><div class=\"sk-serial\"><div class=\"sk-item\"><div class=\"sk-estimator sk-toggleable\"><input class=\"sk-toggleable__control sk-hidden--visually\" id=\"sk-estimator-id-12\" type=\"checkbox\" ><label for=\"sk-estimator-id-12\" class=\"sk-toggleable__label sk-toggleable__label-arrow\">Ridge</label><div class=\"sk-toggleable__content\"><pre>Ridge()</pre></div></div></div></div></div></div></div></div></div></div>"
            ]
          },
          "metadata": {},
          "execution_count": 35
        }
      ],
      "source": [
        "#Ridge RandomizedSearchCV\n",
        "param_grid_ridge = {'alpha': uniform(1.0, 800.0)}\n",
        "ridge_reg_3_month = Ridge()\n",
        "rnd_search_ridge = RandomizedSearchCV(ridge_reg_3_month, param_distributions=param_grid_ridge, cv=5,\n",
        "                                      scoring=\"neg_root_mean_squared_error\", return_train_score=True)\n",
        "rnd_search_ridge.fit( X_train_shuffled, y_train_shuffled)"
      ]
    },
    {
      "cell_type": "code",
      "execution_count": 36,
      "id": "fcc5f919",
      "metadata": {
        "id": "fcc5f919",
        "outputId": "71ae7924-9dcb-4a6b-bbe8-cc2e8b7d8955",
        "colab": {
          "base_uri": "https://localhost:8080/"
        }
      },
      "outputs": [
        {
          "output_type": "execute_result",
          "data": {
            "text/plain": [
              "{'alpha': 219.42066604198465}"
            ]
          },
          "metadata": {},
          "execution_count": 36
        }
      ],
      "source": [
        "rnd_search_ridge.best_params_"
      ]
    },
    {
      "cell_type": "code",
      "execution_count": 37,
      "id": "1e8e4fb0",
      "metadata": {
        "id": "1e8e4fb0",
        "outputId": "d429c8cb-77be-4932-e4de-2142898aadca",
        "colab": {
          "base_uri": "https://localhost:8080/"
        }
      },
      "outputs": [
        {
          "output_type": "execute_result",
          "data": {
            "text/plain": [
              "0.3438309422300617"
            ]
          },
          "metadata": {},
          "execution_count": 37
        }
      ],
      "source": [
        "-(rnd_search_ridge.best_score_)"
      ]
    },
    {
      "cell_type": "code",
      "execution_count": 38,
      "id": "2ec08b2f",
      "metadata": {
        "id": "2ec08b2f"
      },
      "outputs": [],
      "source": [
        "def plot_learning_curves(model, X, y):\n",
        "    train_sizes, train_scores, valid_scores = learning_curve(model, X, y, train_sizes=np.linspace(0.01, 1.0, 20), cv=5,\n",
        "        scoring=\"neg_root_mean_squared_error\")\n",
        "    train_errors = -train_scores.mean(axis=1)\n",
        "    valid_errors = -valid_scores.mean(axis=1)\n",
        "\n",
        "    plt.figure(figsize=(6, 4))\n",
        "    plt.plot(train_sizes, train_errors, \"r\", linewidth=2, label=\"train\")\n",
        "    plt.plot(train_sizes, valid_errors, \"b\", linewidth=2, label=\"valid\")\n",
        "    plt.xlabel(\"Training set size\")\n",
        "    plt.ylabel(\"RMSE\")\n",
        "    plt.legend(loc=\"upper right\")\n",
        "    plt.axis([0, 575, 0, 1.0])\n",
        "    plt.show()"
      ]
    },
    {
      "cell_type": "code",
      "execution_count": 39,
      "id": "73fd3ba1",
      "metadata": {
        "id": "73fd3ba1",
        "outputId": "c8ee3871-b4cc-45e4-e280-b0f960419923",
        "colab": {
          "base_uri": "https://localhost:8080/",
          "height": 393
        }
      },
      "outputs": [
        {
          "output_type": "display_data",
          "data": {
            "text/plain": [
              "<Figure size 600x400 with 1 Axes>"
            ],
            "image/png": "[encoded data removed]"
          },
          "metadata": {}
        }
      ],
      "source": [
        "# Plot learning curve for Ridge model\n",
        "plot_learning_curves(rnd_search_ridge.best_estimator_, X_train_shuffled, y_train_shuffled)"
      ]
    },
    {
      "cell_type": "code",
      "execution_count": 40,
      "id": "11dfb31a",
      "metadata": {
        "id": "11dfb31a",
        "outputId": "faefa44e-4d8a-4115-84c6-b3ee773b1cb1",
        "colab": {
          "base_uri": "https://localhost:8080/"
        }
      },
      "outputs": [
        {
          "output_type": "stream",
          "name": "stdout",
          "text": [
            "X_train_pca, y_train_shuffled shape: (672, 32) (672,)\n"
          ]
        }
      ],
      "source": [
        "# use pca to reduce dimension of train and test datasets\n",
        "n_components = 32\n",
        "pca = sklearn.decomposition.PCA(n_components=n_components)\n",
        "pca.fit(X_train_shuffled)\n",
        "X_train_pca = pca.transform(X_train_shuffled)\n",
        "print('X_train_pca, y_train_shuffled shape:', X_train_pca.shape, y_train_shuffled.shape)"
      ]
    },
    {
      "cell_type": "code",
      "execution_count": 66,
      "id": "3a44536c",
      "metadata": {
        "id": "3a44536c",
        "outputId": "92ede8eb-e659-4b87-a49f-605d99de26a8",
        "colab": {
          "base_uri": "https://localhost:8080/",
          "height": 118
        }
      },
      "outputs": [
        {
          "output_type": "execute_result",
          "data": {
            "text/plain": [
              "GridSearchCV(cv=5, estimator=RandomForestRegressor(),\n",
              "             param_grid={'n_estimators': [25, 50, 75, 100, 125, 150, 175, 200]},\n",
              "             return_train_score=True, scoring='neg_root_mean_squared_error')"
            ],
            "text/html": [
              "<style>#sk-container-id-9 {color: black;background-color: white;}#sk-container-id-9 pre{padding: 0;}#sk-container-id-9 div.sk-toggleable {background-color: white;}#sk-container-id-9 label.sk-toggleable__label {cursor: pointer;display: block;width: 100%;margin-bottom: 0;padding: 0.3em;box-sizing: border-box;text-align: center;}#sk-container-id-9 label.sk-toggleable__label-arrow:before {content: \"▸\";float: left;margin-right: 0.25em;color: #696969;}#sk-container-id-9 label.sk-toggleable__label-arrow:hover:before {color: black;}#sk-container-id-9 div.sk-estimator:hover label.sk-toggleable__label-arrow:before {color: black;}#sk-container-id-9 div.sk-toggleable__content {max-height: 0;max-width: 0;overflow: hidden;text-align: left;background-color: #f0f8ff;}#sk-container-id-9 div.sk-toggleable__content pre {margin: 0.2em;color: black;border-radius: 0.25em;background-color: #f0f8ff;}#sk-container-id-9 input.sk-toggleable__control:checked~div.sk-toggleable__content {max-height: 200px;max-width: 100%;overflow: auto;}#sk-container-id-9 input.sk-toggleable__control:checked~label.sk-toggleable__label-arrow:before {content: \"▾\";}#sk-container-id-9 div.sk-estimator input.sk-toggleable__control:checked~label.sk-toggleable__label {background-color: #d4ebff;}#sk-container-id-9 div.sk-label input.sk-toggleable__control:checked~label.sk-toggleable__label {background-color: #d4ebff;}#sk-container-id-9 input.sk-hidden--visually {border: 0;clip: rect(1px 1px 1px 1px);clip: rect(1px, 1px, 1px, 1px);height: 1px;margin: -1px;overflow: hidden;padding: 0;position: absolute;width: 1px;}#sk-container-id-9 div.sk-estimator {font-family: monospace;background-color: #f0f8ff;border: 1px dotted black;border-radius: 0.25em;box-sizing: border-box;margin-bottom: 0.5em;}#sk-container-id-9 div.sk-estimator:hover {background-color: #d4ebff;}#sk-container-id-9 div.sk-parallel-item::after {content: \"\";width: 100%;border-bottom: 1px solid gray;flex-grow: 1;}#sk-container-id-9 div.sk-label:hover label.sk-toggleable__label {background-color: #d4ebff;}#sk-container-id-9 div.sk-serial::before {content: \"\";position: absolute;border-left: 1px solid gray;box-sizing: border-box;top: 0;bottom: 0;left: 50%;z-index: 0;}#sk-container-id-9 div.sk-serial {display: flex;flex-direction: column;align-items: center;background-color: white;padding-right: 0.2em;padding-left: 0.2em;position: relative;}#sk-container-id-9 div.sk-item {position: relative;z-index: 1;}#sk-container-id-9 div.sk-parallel {display: flex;align-items: stretch;justify-content: center;background-color: white;position: relative;}#sk-container-id-9 div.sk-item::before, #sk-container-id-9 div.sk-parallel-item::before {content: \"\";position: absolute;border-left: 1px solid gray;box-sizing: border-box;top: 0;bottom: 0;left: 50%;z-index: -1;}#sk-container-id-9 div.sk-parallel-item {display: flex;flex-direction: column;z-index: 1;position: relative;background-color: white;}#sk-container-id-9 div.sk-parallel-item:first-child::after {align-self: flex-end;width: 50%;}#sk-container-id-9 div.sk-parallel-item:last-child::after {align-self: flex-start;width: 50%;}#sk-container-id-9 div.sk-parallel-item:only-child::after {width: 0;}#sk-container-id-9 div.sk-dashed-wrapped {border: 1px dashed gray;margin: 0 0.4em 0.5em 0.4em;box-sizing: border-box;padding-bottom: 0.4em;background-color: white;}#sk-container-id-9 div.sk-label label {font-family: monospace;font-weight: bold;display: inline-block;line-height: 1.2em;}#sk-container-id-9 div.sk-label-container {text-align: center;}#sk-container-id-9 div.sk-container {/* jupyter's `normalize.less` sets `[hidden] { display: none; }` but bootstrap.min.css set `[hidden] { display: none !important; }` so we also need the `!important` here to be able to override the default hidden behavior on the sphinx rendered scikit-learn.org. See: https://github.com/scikit-learn/scikit-learn/issues/21755 */display: inline-block !important;position: relative;}#sk-container-id-9 div.sk-text-repr-fallback {display: none;}</style><div id=\"sk-container-id-9\" class=\"sk-top-container\"><div class=\"sk-text-repr-fallback\"><pre>GridSearchCV(cv=5, estimator=RandomForestRegressor(),\n",
              "             param_grid={&#x27;n_estimators&#x27;: [25, 50, 75, 100, 125, 150, 175, 200]},\n",
              "             return_train_score=True, scoring=&#x27;neg_root_mean_squared_error&#x27;)</pre><b>In a Jupyter environment, please rerun this cell to show the HTML representation or trust the notebook. <br />On GitHub, the HTML representation is unable to render, please try loading this page with nbviewer.org.</b></div><div class=\"sk-container\" hidden><div class=\"sk-item sk-dashed-wrapped\"><div class=\"sk-label-container\"><div class=\"sk-label sk-toggleable\"><input class=\"sk-toggleable__control sk-hidden--visually\" id=\"sk-estimator-id-25\" type=\"checkbox\" ><label for=\"sk-estimator-id-25\" class=\"sk-toggleable__label sk-toggleable__label-arrow\">GridSearchCV</label><div class=\"sk-toggleable__content\"><pre>GridSearchCV(cv=5, estimator=RandomForestRegressor(),\n",
              "             param_grid={&#x27;n_estimators&#x27;: [25, 50, 75, 100, 125, 150, 175, 200]},\n",
              "             return_train_score=True, scoring=&#x27;neg_root_mean_squared_error&#x27;)</pre></div></div></div><div class=\"sk-parallel\"><div class=\"sk-parallel-item\"><div class=\"sk-item\"><div class=\"sk-label-container\"><div class=\"sk-label sk-toggleable\"><input class=\"sk-toggleable__control sk-hidden--visually\" id=\"sk-estimator-id-26\" type=\"checkbox\" ><label for=\"sk-estimator-id-26\" class=\"sk-toggleable__label sk-toggleable__label-arrow\">estimator: RandomForestRegressor</label><div class=\"sk-toggleable__content\"><pre>RandomForestRegressor()</pre></div></div></div><div class=\"sk-serial\"><div class=\"sk-item\"><div class=\"sk-estimator sk-toggleable\"><input class=\"sk-toggleable__control sk-hidden--visually\" id=\"sk-estimator-id-27\" type=\"checkbox\" ><label for=\"sk-estimator-id-27\" class=\"sk-toggleable__label sk-toggleable__label-arrow\">RandomForestRegressor</label><div class=\"sk-toggleable__content\"><pre>RandomForestRegressor()</pre></div></div></div></div></div></div></div></div></div></div>"
            ]
          },
          "metadata": {},
          "execution_count": 66
        }
      ],
      "source": [
        "#RandonForest GridSearchCV\n",
        "param_grid_forest = {'n_estimators': [25, 50, 75,100, 125, 150, 175, 200]}\n",
        "forest_reg_3_month = RandomForestRegressor()\n",
        "grd_search_forest = GridSearchCV(forest_reg_3_month, param_grid = param_grid_forest, cv=5,\n",
        "                                      scoring=\"neg_root_mean_squared_error\", return_train_score=True)\n",
        "grd_search_forest.fit( X_train_pca, y_train_shuffled)"
      ]
    },
    {
      "cell_type": "code",
      "execution_count": 67,
      "id": "a5c560df",
      "metadata": {
        "id": "a5c560df",
        "outputId": "d0df7627-539a-4d71-d97b-05ccb13603e7",
        "colab": {
          "base_uri": "https://localhost:8080/"
        }
      },
      "outputs": [
        {
          "output_type": "execute_result",
          "data": {
            "text/plain": [
              "{'n_estimators': 125}"
            ]
          },
          "metadata": {},
          "execution_count": 67
        }
      ],
      "source": [
        "grd_search_forest.best_params_"
      ]
    },
    {
      "cell_type": "code",
      "execution_count": 68,
      "id": "35102e68",
      "metadata": {
        "id": "35102e68",
        "outputId": "0ab22080-a6b7-480c-c185-45d94acfa6ac",
        "colab": {
          "base_uri": "https://localhost:8080/"
        }
      },
      "outputs": [
        {
          "output_type": "execute_result",
          "data": {
            "text/plain": [
              "0.40428280549034684"
            ]
          },
          "metadata": {},
          "execution_count": 68
        }
      ],
      "source": [
        "-(grd_search_forest.best_score_)"
      ]
    },
    {
      "cell_type": "code",
      "execution_count": 69,
      "id": "fbf20dce",
      "metadata": {
        "id": "fbf20dce",
        "outputId": "6309faee-073a-41a8-db77-110b1f6bdb22",
        "colab": {
          "base_uri": "https://localhost:8080/",
          "height": 118
        }
      },
      "outputs": [
        {
          "output_type": "execute_result",
          "data": {
            "text/plain": [
              "GridSearchCV(cv=5,\n",
              "             estimator=XGBRegressor(base_score=None, booster=None,\n",
              "                                    callbacks=None, colsample_bylevel=None,\n",
              "                                    colsample_bynode=None,\n",
              "                                    colsample_bytree=None,\n",
              "                                    early_stopping_rounds=None,\n",
              "                                    enable_categorical=False, eval_metric=None,\n",
              "                                    feature_types=None, gamma=None, gpu_id=None,\n",
              "                                    grow_policy=None, importance_type=None,\n",
              "                                    interaction_constraints=None,\n",
              "                                    learning_rate=None, m...\n",
              "                                    max_cat_threshold=None,\n",
              "                                    max_cat_to_onehot=None, max_delta_step=None,\n",
              "                                    max_depth=None, max_leaves=None,\n",
              "                                    min_child_weight=None, missing=nan,\n",
              "                                    monotone_constraints=None, n_estimators=100,\n",
              "                                    n_jobs=None, num_parallel_tree=None,\n",
              "                                    predictor=None, random_state=None, ...),\n",
              "             param_grid={'eta': [0.001, 0.01, 0.1, 0.15, 0.2]},\n",
              "             return_train_score=True, scoring='neg_root_mean_squared_error')"
            ],
            "text/html": [
              "<style>#sk-container-id-10 {color: black;background-color: white;}#sk-container-id-10 pre{padding: 0;}#sk-container-id-10 div.sk-toggleable {background-color: white;}#sk-container-id-10 label.sk-toggleable__label {cursor: pointer;display: block;width: 100%;margin-bottom: 0;padding: 0.3em;box-sizing: border-box;text-align: center;}#sk-container-id-10 label.sk-toggleable__label-arrow:before {content: \"▸\";float: left;margin-right: 0.25em;color: #696969;}#sk-container-id-10 label.sk-toggleable__label-arrow:hover:before {color: black;}#sk-container-id-10 div.sk-estimator:hover label.sk-toggleable__label-arrow:before {color: black;}#sk-container-id-10 div.sk-toggleable__content {max-height: 0;max-width: 0;overflow: hidden;text-align: left;background-color: #f0f8ff;}#sk-container-id-10 div.sk-toggleable__content pre {margin: 0.2em;color: black;border-radius: 0.25em;background-color: #f0f8ff;}#sk-container-id-10 input.sk-toggleable__control:checked~div.sk-toggleable__content {max-height: 200px;max-width: 100%;overflow: auto;}#sk-container-id-10 input.sk-toggleable__control:checked~label.sk-toggleable__label-arrow:before {content: \"▾\";}#sk-container-id-10 div.sk-estimator input.sk-toggleable__control:checked~label.sk-toggleable__label {background-color: #d4ebff;}#sk-container-id-10 div.sk-label input.sk-toggleable__control:checked~label.sk-toggleable__label {background-color: #d4ebff;}#sk-container-id-10 input.sk-hidden--visually {border: 0;clip: rect(1px 1px 1px 1px);clip: rect(1px, 1px, 1px, 1px);height: 1px;margin: -1px;overflow: hidden;padding: 0;position: absolute;width: 1px;}#sk-container-id-10 div.sk-estimator {font-family: monospace;background-color: #f0f8ff;border: 1px dotted black;border-radius: 0.25em;box-sizing: border-box;margin-bottom: 0.5em;}#sk-container-id-10 div.sk-estimator:hover {background-color: #d4ebff;}#sk-container-id-10 div.sk-parallel-item::after {content: \"\";width: 100%;border-bottom: 1px solid gray;flex-grow: 1;}#sk-container-id-10 div.sk-label:hover label.sk-toggleable__label {background-color: #d4ebff;}#sk-container-id-10 div.sk-serial::before {content: \"\";position: absolute;border-left: 1px solid gray;box-sizing: border-box;top: 0;bottom: 0;left: 50%;z-index: 0;}#sk-container-id-10 div.sk-serial {display: flex;flex-direction: column;align-items: center;background-color: white;padding-right: 0.2em;padding-left: 0.2em;position: relative;}#sk-container-id-10 div.sk-item {position: relative;z-index: 1;}#sk-container-id-10 div.sk-parallel {display: flex;align-items: stretch;justify-content: center;background-color: white;position: relative;}#sk-container-id-10 div.sk-item::before, #sk-container-id-10 div.sk-parallel-item::before {content: \"\";position: absolute;border-left: 1px solid gray;box-sizing: border-box;top: 0;bottom: 0;left: 50%;z-index: -1;}#sk-container-id-10 div.sk-parallel-item {display: flex;flex-direction: column;z-index: 1;position: relative;background-color: white;}#sk-container-id-10 div.sk-parallel-item:first-child::after {align-self: flex-end;width: 50%;}#sk-container-id-10 div.sk-parallel-item:last-child::after {align-self: flex-start;width: 50%;}#sk-container-id-10 div.sk-parallel-item:only-child::after {width: 0;}#sk-container-id-10 div.sk-dashed-wrapped {border: 1px dashed gray;margin: 0 0.4em 0.5em 0.4em;box-sizing: border-box;padding-bottom: 0.4em;background-color: white;}#sk-container-id-10 div.sk-label label {font-family: monospace;font-weight: bold;display: inline-block;line-height: 1.2em;}#sk-container-id-10 div.sk-label-container {text-align: center;}#sk-container-id-10 div.sk-container {/* jupyter's `normalize.less` sets `[hidden] { display: none; }` but bootstrap.min.css set `[hidden] { display: none !important; }` so we also need the `!important` here to be able to override the default hidden behavior on the sphinx rendered scikit-learn.org. See: https://github.com/scikit-learn/scikit-learn/issues/21755 */display: inline-block !important;position: relative;}#sk-container-id-10 div.sk-text-repr-fallback {display: none;}</style><div id=\"sk-container-id-10\" class=\"sk-top-container\"><div class=\"sk-text-repr-fallback\"><pre>GridSearchCV(cv=5,\n",
              "             estimator=XGBRegressor(base_score=None, booster=None,\n",
              "                                    callbacks=None, colsample_bylevel=None,\n",
              "                                    colsample_bynode=None,\n",
              "                                    colsample_bytree=None,\n",
              "                                    early_stopping_rounds=None,\n",
              "                                    enable_categorical=False, eval_metric=None,\n",
              "                                    feature_types=None, gamma=None, gpu_id=None,\n",
              "                                    grow_policy=None, importance_type=None,\n",
              "                                    interaction_constraints=None,\n",
              "                                    learning_rate=None, m...\n",
              "                                    max_cat_threshold=None,\n",
              "                                    max_cat_to_onehot=None, max_delta_step=None,\n",
              "                                    max_depth=None, max_leaves=None,\n",
              "                                    min_child_weight=None, missing=nan,\n",
              "                                    monotone_constraints=None, n_estimators=100,\n",
              "                                    n_jobs=None, num_parallel_tree=None,\n",
              "                                    predictor=None, random_state=None, ...),\n",
              "             param_grid={&#x27;eta&#x27;: [0.001, 0.01, 0.1, 0.15, 0.2]},\n",
              "             return_train_score=True, scoring=&#x27;neg_root_mean_squared_error&#x27;)</pre><b>In a Jupyter environment, please rerun this cell to show the HTML representation or trust the notebook. <br />On GitHub, the HTML representation is unable to render, please try loading this page with nbviewer.org.</b></div><div class=\"sk-container\" hidden><div class=\"sk-item sk-dashed-wrapped\"><div class=\"sk-label-container\"><div class=\"sk-label sk-toggleable\"><input class=\"sk-toggleable__control sk-hidden--visually\" id=\"sk-estimator-id-28\" type=\"checkbox\" ><label for=\"sk-estimator-id-28\" class=\"sk-toggleable__label sk-toggleable__label-arrow\">GridSearchCV</label><div class=\"sk-toggleable__content\"><pre>GridSearchCV(cv=5,\n",
              "             estimator=XGBRegressor(base_score=None, booster=None,\n",
              "                                    callbacks=None, colsample_bylevel=None,\n",
              "                                    colsample_bynode=None,\n",
              "                                    colsample_bytree=None,\n",
              "                                    early_stopping_rounds=None,\n",
              "                                    enable_categorical=False, eval_metric=None,\n",
              "                                    feature_types=None, gamma=None, gpu_id=None,\n",
              "                                    grow_policy=None, importance_type=None,\n",
              "                                    interaction_constraints=None,\n",
              "                                    learning_rate=None, m...\n",
              "                                    max_cat_threshold=None,\n",
              "                                    max_cat_to_onehot=None, max_delta_step=None,\n",
              "                                    max_depth=None, max_leaves=None,\n",
              "                                    min_child_weight=None, missing=nan,\n",
              "                                    monotone_constraints=None, n_estimators=100,\n",
              "                                    n_jobs=None, num_parallel_tree=None,\n",
              "                                    predictor=None, random_state=None, ...),\n",
              "             param_grid={&#x27;eta&#x27;: [0.001, 0.01, 0.1, 0.15, 0.2]},\n",
              "             return_train_score=True, scoring=&#x27;neg_root_mean_squared_error&#x27;)</pre></div></div></div><div class=\"sk-parallel\"><div class=\"sk-parallel-item\"><div class=\"sk-item\"><div class=\"sk-label-container\"><div class=\"sk-label sk-toggleable\"><input class=\"sk-toggleable__control sk-hidden--visually\" id=\"sk-estimator-id-29\" type=\"checkbox\" ><label for=\"sk-estimator-id-29\" class=\"sk-toggleable__label sk-toggleable__label-arrow\">estimator: XGBRegressor</label><div class=\"sk-toggleable__content\"><pre>XGBRegressor(base_score=None, booster=None, callbacks=None,\n",
              "             colsample_bylevel=None, colsample_bynode=None,\n",
              "             colsample_bytree=None, early_stopping_rounds=None,\n",
              "             enable_categorical=False, eval_metric=None, feature_types=None,\n",
              "             gamma=None, gpu_id=None, grow_policy=None, importance_type=None,\n",
              "             interaction_constraints=None, learning_rate=None, max_bin=None,\n",
              "             max_cat_threshold=None, max_cat_to_onehot=None,\n",
              "             max_delta_step=None, max_depth=None, max_leaves=None,\n",
              "             min_child_weight=None, missing=nan, monotone_constraints=None,\n",
              "             n_estimators=100, n_jobs=None, num_parallel_tree=None,\n",
              "             predictor=None, random_state=None, ...)</pre></div></div></div><div class=\"sk-serial\"><div class=\"sk-item\"><div class=\"sk-estimator sk-toggleable\"><input class=\"sk-toggleable__control sk-hidden--visually\" id=\"sk-estimator-id-30\" type=\"checkbox\" ><label for=\"sk-estimator-id-30\" class=\"sk-toggleable__label sk-toggleable__label-arrow\">XGBRegressor</label><div class=\"sk-toggleable__content\"><pre>XGBRegressor(base_score=None, booster=None, callbacks=None,\n",
              "             colsample_bylevel=None, colsample_bynode=None,\n",
              "             colsample_bytree=None, early_stopping_rounds=None,\n",
              "             enable_categorical=False, eval_metric=None, feature_types=None,\n",
              "             gamma=None, gpu_id=None, grow_policy=None, importance_type=None,\n",
              "             interaction_constraints=None, learning_rate=None, max_bin=None,\n",
              "             max_cat_threshold=None, max_cat_to_onehot=None,\n",
              "             max_delta_step=None, max_depth=None, max_leaves=None,\n",
              "             min_child_weight=None, missing=nan, monotone_constraints=None,\n",
              "             n_estimators=100, n_jobs=None, num_parallel_tree=None,\n",
              "             predictor=None, random_state=None, ...)</pre></div></div></div></div></div></div></div></div></div></div>"
            ]
          },
          "metadata": {},
          "execution_count": 69
        }
      ],
      "source": [
        "#XGBoost Regression GridSearchCV\n",
        "param_grid_xgboost = {'eta': [0.001, 0.01, 0.1, 0.15, 0.2]}\n",
        "xgboost_reg_3_month = xgboost.XGBRegressor()\n",
        "grid_search_xgboost = GridSearchCV(xgboost_reg_3_month, param_grid = param_grid_xgboost, cv=5,\n",
        "                                   scoring=\"neg_root_mean_squared_error\", return_train_score=True)\n",
        "grid_search_xgboost.fit( X_train_pca, y_train_shuffled)"
      ]
    },
    {
      "cell_type": "code",
      "execution_count": 70,
      "id": "1af6368b",
      "metadata": {
        "id": "1af6368b",
        "outputId": "bc6e95e5-03c4-4dab-c894-67248bde417a",
        "colab": {
          "base_uri": "https://localhost:8080/"
        }
      },
      "outputs": [
        {
          "output_type": "execute_result",
          "data": {
            "text/plain": [
              "{'eta': 0.1}"
            ]
          },
          "metadata": {},
          "execution_count": 70
        }
      ],
      "source": [
        "grid_search_xgboost.best_params_"
      ]
    },
    {
      "cell_type": "code",
      "execution_count": 71,
      "id": "ee1283fd",
      "metadata": {
        "id": "ee1283fd",
        "outputId": "05de1611-00c5-4360-d83c-2ccd38a70558",
        "colab": {
          "base_uri": "https://localhost:8080/"
        }
      },
      "outputs": [
        {
          "output_type": "execute_result",
          "data": {
            "text/plain": [
              "0.36749365757076324"
            ]
          },
          "metadata": {},
          "execution_count": 71
        }
      ],
      "source": [
        "-(grid_search_xgboost.best_score_)"
      ]
    },
    {
      "cell_type": "code",
      "execution_count": 72,
      "id": "79323c81",
      "metadata": {
        "id": "79323c81",
        "outputId": "5ad02d30-af25-4c1a-bfd1-7e7d70d40ffc",
        "colab": {
          "base_uri": "https://localhost:8080/"
        }
      },
      "outputs": [
        {
          "output_type": "stream",
          "name": "stdout",
          "text": [
            "SVR(C=44.194501864211574, gamma=0.00014618962793704957)\n"
          ]
        }
      ],
      "source": [
        "#SVR Regression RandomizedSearchCV\n",
        "\n",
        "svr_reg = SVR()\n",
        "param_distrib = {'C': uniform(1, 100),\n",
        "                'gamma': reciprocal(1e-5, 0.1)}\n",
        "rnd_search_svr = RandomizedSearchCV(svr_reg, param_distributions= param_distrib, cv=5, scoring=\"neg_root_mean_squared_error\",\n",
        "                                 return_train_score=True, random_state=42)\n",
        "rnd_search_svr.fit( X_train_pca, y_train_shuffled)\n",
        "print(rnd_search_svr.best_estimator_)"
      ]
    },
    {
      "cell_type": "code",
      "execution_count": 73,
      "id": "d466acc7",
      "metadata": {
        "id": "d466acc7",
        "outputId": "9c9436c9-b23e-490b-9993-615dff30a632",
        "colab": {
          "base_uri": "https://localhost:8080/"
        }
      },
      "outputs": [
        {
          "output_type": "stream",
          "name": "stdout",
          "text": [
            "0.27199324288451737\n"
          ]
        }
      ],
      "source": [
        "print(-cross_val_score(rnd_search_svr.best_estimator_, X_train_pca, y_train_shuffled,\n",
        "                       scoring=\"neg_root_mean_squared_error\", cv=5,).mean())"
      ]
    },
    {
      "cell_type": "code",
      "execution_count": 74,
      "id": "a2ba4d68",
      "metadata": {
        "id": "a2ba4d68",
        "outputId": "a3dfb3c4-84b6-4b4e-981a-1b88e02997a1",
        "colab": {
          "base_uri": "https://localhost:8080/",
          "height": 393
        }
      },
      "outputs": [
        {
          "output_type": "display_data",
          "data": {
            "text/plain": [
              "<Figure size 600x400 with 1 Axes>"
            ],
            "image/png": "[encoded data removed]"
          },
          "metadata": {}
        }
      ],
      "source": [
        "# Plot learning curve for SVM model\n",
        "plot_learning_curves(rnd_search_svr.best_estimator_, X_train_pca, y_train_shuffled)"
      ]
    },
    {
      "cell_type": "code",
      "source": [
        "#Plot predictions using the best SVR model\n",
        "X_test_pca = pca.transform(X_test)\n",
        "predictions_svr = rnd_search_svr.best_estimator_.predict(X_test_pca)\n",
        "title = 'SVM Regressor predicting Nino with 3 months lead'\n",
        "plot_nino_time_series(y_test, predictions_svr, title)"
      ],
      "metadata": {
        "colab": {
          "base_uri": "https://localhost:8080/",
          "height": 472
        },
        "id": "L7ANZaaNe0fj",
        "outputId": "f428d1fe-bf37-4a67-c1fc-13fc76769421"
      },
      "id": "L7ANZaaNe0fj",
      "execution_count": 75,
      "outputs": [
        {
          "output_type": "display_data",
          "data": {
            "text/plain": [
              "<Figure size 640x480 with 1 Axes>"
            ],
            "image/png": "[encoded data removed]"
          },
          "metadata": {}
        }
      ]
    },
    {
      "cell_type": "markdown",
      "id": "76b7f2d0",
      "metadata": {
        "id": "76b7f2d0"
      },
      "source": [
        "**Deep Neural Networks**"
      ]
    },
    {
      "cell_type": "code",
      "execution_count": 76,
      "id": "b0e3764c",
      "metadata": {
        "id": "b0e3764c",
        "outputId": "a27d666e-82c5-4a49-b0ea-e2283cd7bc9c",
        "colab": {
          "base_uri": "https://localhost:8080/"
        }
      },
      "outputs": [
        {
          "output_type": "stream",
          "name": "stdout",
          "text": [
            "X_train_pca_split, y_train_split shape : (540, 32) (540,)\n",
            "X_val_split, y_val_split shape : (132, 32) (132,)\n"
          ]
        }
      ],
      "source": [
        "#Split the training data into a train set and a validation set\n",
        "X_train_pca_df = pd.DataFrame(X_train_pca)\n",
        "y_train_shuffled_df = pd.Series(y_train_shuffled)\n",
        "X_train_pca_split = X_train_pca_df.iloc[:540, :]\n",
        "y_train_split = y_train_shuffled_df.iloc[:540]\n",
        "X_val_split = X_train_pca_df.iloc[540:, :]\n",
        "y_val_split = y_train_shuffled_df.iloc[540:]\n",
        "print('X_train_pca_split, y_train_split shape :',X_train_pca_split.shape, y_train_split.shape)\n",
        "print('X_val_split, y_val_split shape :',X_val_split.shape,y_val_split.shape)"
      ]
    },
    {
      "cell_type": "code",
      "execution_count": 77,
      "id": "5867b619",
      "metadata": {
        "id": "5867b619",
        "outputId": "e370a945-6e9e-418b-cc2d-13a48291608b",
        "colab": {
          "base_uri": "https://localhost:8080/"
        }
      },
      "outputs": [
        {
          "output_type": "stream",
          "name": "stdout",
          "text": [
            "Epoch 1/30\n",
            "17/17 [==============================] - 6s 16ms/step - loss: 2.9682 - root_mean_squared_error: 1.7228 - val_loss: 2.0297 - val_root_mean_squared_error: 1.4247\n",
            "Epoch 2/30\n",
            "17/17 [==============================] - 0s 6ms/step - loss: 1.0313 - root_mean_squared_error: 1.0155 - val_loss: 1.0726 - val_root_mean_squared_error: 1.0357\n",
            "Epoch 3/30\n",
            "17/17 [==============================] - 0s 5ms/step - loss: 0.4121 - root_mean_squared_error: 0.6419 - val_loss: 0.6363 - val_root_mean_squared_error: 0.7977\n",
            "Epoch 4/30\n",
            "17/17 [==============================] - 0s 5ms/step - loss: 0.1728 - root_mean_squared_error: 0.4157 - val_loss: 0.5239 - val_root_mean_squared_error: 0.7238\n",
            "Epoch 5/30\n",
            "17/17 [==============================] - 0s 6ms/step - loss: 0.0787 - root_mean_squared_error: 0.2806 - val_loss: 0.4619 - val_root_mean_squared_error: 0.6797\n",
            "Epoch 6/30\n",
            "17/17 [==============================] - 0s 7ms/step - loss: 0.0442 - root_mean_squared_error: 0.2102 - val_loss: 0.4498 - val_root_mean_squared_error: 0.6707\n",
            "Epoch 7/30\n",
            "17/17 [==============================] - 0s 6ms/step - loss: 0.0274 - root_mean_squared_error: 0.1656 - val_loss: 0.4653 - val_root_mean_squared_error: 0.6821\n",
            "Epoch 8/30\n",
            "17/17 [==============================] - 0s 5ms/step - loss: 0.0174 - root_mean_squared_error: 0.1317 - val_loss: 0.4588 - val_root_mean_squared_error: 0.6774\n",
            "Epoch 9/30\n",
            "17/17 [==============================] - 0s 5ms/step - loss: 0.0115 - root_mean_squared_error: 0.1074 - val_loss: 0.4505 - val_root_mean_squared_error: 0.6712\n",
            "Epoch 10/30\n",
            "17/17 [==============================] - 0s 5ms/step - loss: 0.0077 - root_mean_squared_error: 0.0875 - val_loss: 0.4519 - val_root_mean_squared_error: 0.6722\n",
            "Epoch 11/30\n",
            "17/17 [==============================] - 0s 5ms/step - loss: 0.0067 - root_mean_squared_error: 0.0816 - val_loss: 0.4502 - val_root_mean_squared_error: 0.6709\n",
            "Epoch 12/30\n",
            "17/17 [==============================] - 0s 6ms/step - loss: 0.0063 - root_mean_squared_error: 0.0794 - val_loss: 0.4527 - val_root_mean_squared_error: 0.6728\n",
            "Epoch 13/30\n",
            "17/17 [==============================] - 0s 6ms/step - loss: 0.0052 - root_mean_squared_error: 0.0718 - val_loss: 0.4466 - val_root_mean_squared_error: 0.6683\n",
            "Epoch 14/30\n",
            "17/17 [==============================] - 0s 6ms/step - loss: 0.0046 - root_mean_squared_error: 0.0679 - val_loss: 0.4442 - val_root_mean_squared_error: 0.6665\n",
            "Epoch 15/30\n",
            "17/17 [==============================] - 0s 6ms/step - loss: 0.0034 - root_mean_squared_error: 0.0586 - val_loss: 0.4350 - val_root_mean_squared_error: 0.6595\n",
            "Epoch 16/30\n",
            "17/17 [==============================] - 0s 6ms/step - loss: 0.0028 - root_mean_squared_error: 0.0533 - val_loss: 0.4302 - val_root_mean_squared_error: 0.6559\n",
            "Epoch 17/30\n",
            "17/17 [==============================] - 0s 5ms/step - loss: 0.0032 - root_mean_squared_error: 0.0568 - val_loss: 0.4452 - val_root_mean_squared_error: 0.6672\n",
            "Epoch 18/30\n",
            "17/17 [==============================] - 0s 6ms/step - loss: 0.0034 - root_mean_squared_error: 0.0581 - val_loss: 0.4365 - val_root_mean_squared_error: 0.6607\n",
            "Epoch 19/30\n",
            "17/17 [==============================] - 0s 5ms/step - loss: 0.0041 - root_mean_squared_error: 0.0636 - val_loss: 0.4487 - val_root_mean_squared_error: 0.6699\n",
            "Epoch 20/30\n",
            "17/17 [==============================] - 0s 5ms/step - loss: 0.0044 - root_mean_squared_error: 0.0666 - val_loss: 0.4334 - val_root_mean_squared_error: 0.6584\n",
            "Epoch 21/30\n",
            "17/17 [==============================] - 0s 5ms/step - loss: 0.0067 - root_mean_squared_error: 0.0816 - val_loss: 0.4469 - val_root_mean_squared_error: 0.6685\n",
            "Epoch 22/30\n",
            "17/17 [==============================] - 0s 6ms/step - loss: 0.0093 - root_mean_squared_error: 0.0964 - val_loss: 0.4142 - val_root_mean_squared_error: 0.6436\n",
            "Epoch 23/30\n",
            "17/17 [==============================] - 0s 6ms/step - loss: 0.0141 - root_mean_squared_error: 0.1186 - val_loss: 0.4441 - val_root_mean_squared_error: 0.6664\n",
            "Epoch 24/30\n",
            "17/17 [==============================] - 0s 7ms/step - loss: 0.0185 - root_mean_squared_error: 0.1361 - val_loss: 0.3985 - val_root_mean_squared_error: 0.6313\n",
            "Epoch 25/30\n",
            "17/17 [==============================] - 0s 5ms/step - loss: 0.0322 - root_mean_squared_error: 0.1793 - val_loss: 0.4439 - val_root_mean_squared_error: 0.6662\n",
            "Epoch 26/30\n",
            "17/17 [==============================] - 0s 5ms/step - loss: 0.0409 - root_mean_squared_error: 0.2022 - val_loss: 0.3843 - val_root_mean_squared_error: 0.6199\n",
            "Epoch 27/30\n",
            "17/17 [==============================] - 0s 6ms/step - loss: 0.0463 - root_mean_squared_error: 0.2151 - val_loss: 0.4151 - val_root_mean_squared_error: 0.6443\n",
            "Epoch 28/30\n",
            "17/17 [==============================] - 0s 6ms/step - loss: 0.0547 - root_mean_squared_error: 0.2338 - val_loss: 0.4180 - val_root_mean_squared_error: 0.6465\n",
            "Epoch 29/30\n",
            "17/17 [==============================] - 0s 6ms/step - loss: 0.0539 - root_mean_squared_error: 0.2322 - val_loss: 0.3838 - val_root_mean_squared_error: 0.6195\n",
            "Epoch 30/30\n",
            "17/17 [==============================] - 0s 6ms/step - loss: 0.0740 - root_mean_squared_error: 0.2720 - val_loss: 0.4557 - val_root_mean_squared_error: 0.6750\n"
          ]
        },
        {
          "output_type": "execute_result",
          "data": {
            "text/plain": [
              "<keras.callbacks.History at 0x7d2fc7ca3ac0>"
            ]
          },
          "metadata": {},
          "execution_count": 77
        }
      ],
      "source": [
        "tf.keras.backend.clear_session()\n",
        "tf.random.set_seed(42)\n",
        "\n",
        "# MLP with flatten(latitude*longitude) input training data\n",
        "base_model = tf.keras.Sequential([\n",
        "    tf.keras.layers.Dense(256, activation=\"relu\", input_shape=X_train_pca_split.shape[1:]),\n",
        "    tf.keras.layers.Dense(128, activation=\"relu\"),\n",
        "    tf.keras.layers.Dense(64, activation=\"relu\"),\n",
        "    tf.keras.layers.Dense(1)\n",
        "])\n",
        "optimizer = tf.keras.optimizers.Adam(learning_rate=1e-3)\n",
        "base_model.compile(loss=\"mse\", optimizer=optimizer, metrics=[\"RootMeanSquaredError\"])\n",
        "base_model.fit(X_train_pca_split, y_train_split, epochs=30, validation_data=(X_val_split, y_val_split))"
      ]
    },
    {
      "cell_type": "code",
      "execution_count": 78,
      "id": "9fae6c65",
      "metadata": {
        "id": "9fae6c65"
      },
      "outputs": [],
      "source": [
        "# This code cell is mostly data wrangling\n",
        "\n",
        "def load_enso_indices():\n",
        "  \"\"\"\n",
        "  Reads in the txt data file to output a pandas Series of ENSO vals\n",
        "\n",
        "  outputs\n",
        "  -------\n",
        "\n",
        "    pd.Series : monthly ENSO values starting from 1870-01-01\n",
        "  \"\"\"\n",
        "  with open('nino34.long.anom.data.txt') as f:\n",
        "    line = f.readline()\n",
        "    enso_vals = []\n",
        "    while line:\n",
        "        yearly_enso_vals = map(float, line.split()[1:])\n",
        "        enso_vals.extend(yearly_enso_vals)\n",
        "        line = f.readline()\n",
        "\n",
        "  enso_vals = pd.Series(enso_vals)\n",
        "  enso_vals.index = pd.date_range('1870-01-01',freq='MS',\n",
        "                                  periods=len(enso_vals))\n",
        "  enso_vals.index = pd.to_datetime(enso_vals.index)\n",
        "  return enso_vals\n",
        "\n",
        "def assemble_predictors_predictands(start_date, end_date, lead_time,\n",
        "                                    dataset, data_format,\n",
        "                                    num_input_time_steps=1,\n",
        "                                    use_pca=False, n_components=32,\n",
        "                                    lat_slice=None, lon_slice=None):\n",
        "  \"\"\"\n",
        "  inputs\n",
        "  ------\n",
        "\n",
        "      start_date           str : the start date from which to extract sst\n",
        "      end_date             str : the end date\n",
        "      lead_time            str : the number of months between each sst\n",
        "                              value and the target Nino3.4 Index\n",
        "      dataset              str : 'observations' 'CNRM' or 'MPI'\n",
        "      data_format          str : 'spatial' or 'flatten'. 'spatial' preserves\n",
        "                                  the lat/lon dimensions and returns an\n",
        "                                  array of shape (num_samples, num_input_time_steps,\n",
        "                                  lat, lon).  'flatten' returns an array of shape\n",
        "                                  (num_samples, num_input_time_steps*lat*lon)\n",
        "      num_input_time_steps int : the number of time steps to use for each\n",
        "                                 predictor sample\n",
        "      use_pca             bool : whether or not to apply principal components\n",
        "                              analysis to the sst field\n",
        "      n_components         int : the number of components to use for PCA\n",
        "      lat_slice           slice: the slice of latitudes to use\n",
        "      lon_slice           slice: the slice of longitudes to use\n",
        "\n",
        "  outputs\n",
        "  -------\n",
        "      Returns a tuple of the predictors (np array of sst temperature anomalies)\n",
        "      and the predictands (np array the ENSO index at the specified lead time).\n",
        "\n",
        "  \"\"\"\n",
        "  file_name = {'observations' : 'sst.mon.mean.trefadj.anom.1880to2018.nc',\n",
        "               'CNRM'         : 'CNRM_tas_anomalies_regridded.nc',\n",
        "               'MPI'          : 'MPI_tas_anomalies_regridded.nc'}[dataset]\n",
        "  variable_name = {'observations' : 'sst',\n",
        "                   'CNRM'         : 'tas',\n",
        "                   'MPI'          : 'tas'}[dataset]\n",
        "  ds = xr.open_dataset(file_name)\n",
        "  sst = ds[variable_name].sel(time=slice(start_date, end_date))\n",
        "  if lat_slice is not None:\n",
        "    \"\"\"YOUR CODE HERE\"\"\"\n",
        "    raise NotImplementedError(\"If you desire, you must implement the slicing!\")\n",
        "  if lon_slice is not None:\n",
        "    \"\"\"YOUR CODE HERE\"\"\"\n",
        "    raise NotImplementedError(\"If you desire, you must implement the slicing!\")\n",
        "\n",
        "\n",
        "  num_samples = sst.shape[0]\n",
        "  #sst is a (num_samples, lat, lon) array\n",
        "  #the line below converts it to (num_samples, num_input_time_steps, lat, lon)\n",
        "  sst = np.stack([sst.values[n-num_input_time_steps:n] for n in range(num_input_time_steps,\n",
        "                                                              num_samples+1)])\n",
        "  #CHALLENGE: CAN YOU IMPLEMENT THE ABOVE LINE WITHOUT A FOR LOOP?\n",
        "  num_samples = sst.shape[0]\n",
        "\n",
        "  sst[np.isnan(sst)] = 0\n",
        "  if data_format=='flatten':\n",
        "    #sst is a 3D array: (time_steps, lat, lon)\n",
        "    #in this tutorial, we will not be using ML models that take\n",
        "    #advantage of the spatial nature of global temperature\n",
        "    #therefore, we reshape sst into a 2D array: (time_steps, lat*lon)\n",
        "    #(At each time step, there are lat*lon predictors)\n",
        "    sst = sst.reshape(num_samples, -1)\n",
        "\n",
        "\n",
        "    #Use Principal Components Analysis, also called\n",
        "    #Empirical Orthogonal Functions, to reduce the\n",
        "    #dimensionality of the array\n",
        "    if use_pca:\n",
        "      pca = sklearn.decomposition.PCA(n_components=n_components)\n",
        "      pca.fit(sst)\n",
        "      X = pca.transform(sst)\n",
        "    else:\n",
        "      X = sst\n",
        "  else: # data_format=='spatial'\n",
        "    X = sst\n",
        "\n",
        "  start_date_plus_lead = pd.to_datetime(start_date) + \\\n",
        "                        pd.DateOffset(months=lead_time+num_input_time_steps-1)\n",
        "  end_date_plus_lead = pd.to_datetime(end_date) + \\\n",
        "                      pd.DateOffset(months=lead_time)\n",
        "  if dataset == 'observations':\n",
        "    y = load_enso_indices()[slice(start_date_plus_lead,\n",
        "                                  end_date_plus_lead)]\n",
        "  else: #the data is from a GCM\n",
        "    X = X.astype(np.float32)\n",
        "    #The Nino3.4 Index is composed of three month rolling values\n",
        "    #Therefore, when calculating the Nino3.4 Index in a GCM\n",
        "    #we have to extract the two months prior to the first target start date\n",
        "    target_start_date_with_2_month = start_date_plus_lead - pd.DateOffset(months=2)\n",
        "    subsetted_ds = ds[variable_name].sel(time=slice(target_start_date_with_2_month,\n",
        "                                                   end_date_plus_lead))\n",
        "    #Calculate the Nino3.4 index\n",
        "    y = subsetted_ds.sel(lat=slice(5,-5), lon=slice(360-170,360-120)).mean(dim=('lat','lon'))\n",
        "\n",
        "    y = pd.Series(y.values).rolling(window=3).mean()[2:].values\n",
        "    y = y.astype(np.float32)\n",
        "  ds.close()\n",
        "  return X.astype(np.float32), y.astype(np.float32)"
      ]
    },
    {
      "cell_type": "code",
      "execution_count": 79,
      "id": "88d85701",
      "metadata": {
        "colab": {
          "base_uri": "https://localhost:8080/"
        },
        "id": "88d85701",
        "outputId": "4488981d-7814-4fd4-b40f-341b744fc51c"
      },
      "outputs": [
        {
          "output_type": "stream",
          "name": "stdout",
          "text": [
            "X_train_spatial, y_train_spatial shape: (538, 3, 180, 360) (538,)\n",
            "X_valid_spatial, y_valid_spatial shape: (118, 3, 180, 360) (118,)\n",
            "X_test_spatial, y_test_spatial shape: (130, 3, 180, 360) (130,)\n"
          ]
        }
      ],
      "source": [
        "X_train_spatial, y_train_spatial = assemble_predictors_predictands('1950-01-01','1994-12-31',lead_time=3,\n",
        "                      dataset='observations', data_format='spatial', num_input_time_steps=3)\n",
        "X_valid_spatial, y_valid_spatial = assemble_predictors_predictands('1996-01-01','2005-12-31',lead_time=3,\n",
        "                      dataset='observations', data_format='spatial', num_input_time_steps=3)\n",
        "X_test_spatial, y_test_spatial = assemble_predictors_predictands('2007-01-01','2017-12-31',lead_time=3,\n",
        "                      dataset='observations', data_format='spatial', num_input_time_steps=3)\n",
        "print('X_train_spatial, y_train_spatial shape:', X_train_spatial.shape, y_train_spatial.shape)\n",
        "print('X_valid_spatial, y_valid_spatial shape:', X_valid_spatial.shape, y_valid_spatial.shape)\n",
        "print('X_test_spatial, y_test_spatial shape:', X_test_spatial.shape, y_test_spatial.shape)"
      ]
    },
    {
      "cell_type": "code",
      "execution_count": 80,
      "id": "7663bdc9",
      "metadata": {
        "id": "7663bdc9"
      },
      "outputs": [],
      "source": [
        "#Create train and validation datasets\n",
        "train_dataset = tf.data.Dataset.from_tensor_slices((X_train_spatial, y_train_spatial)).shuffle(1000).batch(12)\n",
        "valid_dataset = tf.data.Dataset.from_tensor_slices((X_valid_spatial, y_valid_spatial)).batch(12)"
      ]
    },
    {
      "cell_type": "code",
      "source": [
        "tf.keras.backend.clear_session()\n",
        "DefaultConv2D = partial(tf.keras.layers.Conv2D, kernel_size=3, padding=\"same\", data_format='channels_first',\n",
        "                        activation=\"relu\", kernel_initializer=\"he_normal\")\n",
        "model_1 = tf.keras.Sequential([tf.keras.layers.InputLayer(input_shape=(3, 180, 360)),\n",
        "    DefaultConv2D(filters=16),\n",
        "    tf.keras.layers.MaxPool2D(),\n",
        "    DefaultConv2D(filters=32),\n",
        "    DefaultConv2D(filters=32),\n",
        "    tf.keras.layers.MaxPool2D(),\n",
        "    DefaultConv2D(filters=64),\n",
        "    DefaultConv2D(filters=64),\n",
        "    tf.keras.layers.MaxPool2D(),\n",
        "    tf.keras.layers.Flatten(),\n",
        "    tf.keras.layers.Dense(units=32, activation=\"relu\",\n",
        "                          kernel_initializer=\"he_normal\"),\n",
        "    tf.keras.layers.Dropout(0.1),\n",
        "    tf.keras.layers.Dense(units=16, activation=\"relu\",\n",
        "                          kernel_initializer=\"he_normal\"),\n",
        "    tf.keras.layers.Dropout(0.1),\n",
        "    tf.keras.layers.Dense(units=1)\n",
        "])\n",
        "optimizer = tf.keras.optimizers.Adam(learning_rate = 1e-3)\n",
        "model_1.compile(loss=\"mean_squared_error\", optimizer=optimizer, metrics=tf.keras.metrics.RootMeanSquaredError())\n",
        "model_1.fit(train_dataset, epochs=30, validation_data= valid_dataset)"
      ],
      "metadata": {
        "colab": {
          "base_uri": "https://localhost:8080/"
        },
        "id": "TVcpzF8ZeNC8",
        "outputId": "b3c9bb1c-115d-4f43-b259-98c09e31e4c2"
      },
      "id": "TVcpzF8ZeNC8",
      "execution_count": 81,
      "outputs": [
        {
          "output_type": "stream",
          "name": "stdout",
          "text": [
            "Epoch 1/30\n",
            "45/45 [==============================] - 12s 68ms/step - loss: 724.0734 - root_mean_squared_error: 26.9086 - val_loss: 0.7620 - val_root_mean_squared_error: 0.8729\n",
            "Epoch 2/30\n",
            "45/45 [==============================] - 2s 50ms/step - loss: 0.6978 - root_mean_squared_error: 0.8353 - val_loss: 0.7820 - val_root_mean_squared_error: 0.8843\n",
            "Epoch 3/30\n",
            "45/45 [==============================] - 2s 49ms/step - loss: 0.5515 - root_mean_squared_error: 0.7426 - val_loss: 0.4804 - val_root_mean_squared_error: 0.6931\n",
            "Epoch 4/30\n",
            "45/45 [==============================] - 2s 46ms/step - loss: 0.3799 - root_mean_squared_error: 0.6164 - val_loss: 0.3382 - val_root_mean_squared_error: 0.5815\n",
            "Epoch 5/30\n",
            "45/45 [==============================] - 2s 47ms/step - loss: 0.2375 - root_mean_squared_error: 0.4873 - val_loss: 0.2471 - val_root_mean_squared_error: 0.4971\n",
            "Epoch 6/30\n",
            "45/45 [==============================] - 2s 46ms/step - loss: 0.2106 - root_mean_squared_error: 0.4589 - val_loss: 0.4501 - val_root_mean_squared_error: 0.6709\n",
            "Epoch 7/30\n",
            "45/45 [==============================] - 2s 46ms/step - loss: 0.1780 - root_mean_squared_error: 0.4219 - val_loss: 0.3098 - val_root_mean_squared_error: 0.5566\n",
            "Epoch 8/30\n",
            "45/45 [==============================] - 2s 48ms/step - loss: 0.1447 - root_mean_squared_error: 0.3804 - val_loss: 0.2797 - val_root_mean_squared_error: 0.5289\n",
            "Epoch 9/30\n",
            "45/45 [==============================] - 2s 47ms/step - loss: 0.2027 - root_mean_squared_error: 0.4502 - val_loss: 0.4771 - val_root_mean_squared_error: 0.6907\n",
            "Epoch 10/30\n",
            "45/45 [==============================] - 2s 47ms/step - loss: 0.2387 - root_mean_squared_error: 0.4885 - val_loss: 0.3394 - val_root_mean_squared_error: 0.5826\n",
            "Epoch 11/30\n",
            "45/45 [==============================] - 2s 47ms/step - loss: 0.1344 - root_mean_squared_error: 0.3666 - val_loss: 0.3358 - val_root_mean_squared_error: 0.5794\n",
            "Epoch 12/30\n",
            "45/45 [==============================] - 2s 46ms/step - loss: 0.1070 - root_mean_squared_error: 0.3271 - val_loss: 0.3744 - val_root_mean_squared_error: 0.6119\n",
            "Epoch 13/30\n",
            "45/45 [==============================] - 2s 47ms/step - loss: 0.1007 - root_mean_squared_error: 0.3174 - val_loss: 0.3743 - val_root_mean_squared_error: 0.6118\n",
            "Epoch 14/30\n",
            "45/45 [==============================] - 2s 47ms/step - loss: 0.0950 - root_mean_squared_error: 0.3082 - val_loss: 0.3327 - val_root_mean_squared_error: 0.5768\n",
            "Epoch 15/30\n",
            "45/45 [==============================] - 2s 46ms/step - loss: 0.1022 - root_mean_squared_error: 0.3197 - val_loss: 0.3420 - val_root_mean_squared_error: 0.5848\n",
            "Epoch 16/30\n",
            "45/45 [==============================] - 2s 46ms/step - loss: 0.0777 - root_mean_squared_error: 0.2788 - val_loss: 0.3531 - val_root_mean_squared_error: 0.5942\n",
            "Epoch 17/30\n",
            "45/45 [==============================] - 2s 47ms/step - loss: 0.0894 - root_mean_squared_error: 0.2991 - val_loss: 0.3395 - val_root_mean_squared_error: 0.5827\n",
            "Epoch 18/30\n",
            "45/45 [==============================] - 2s 47ms/step - loss: 0.1006 - root_mean_squared_error: 0.3172 - val_loss: 0.3573 - val_root_mean_squared_error: 0.5977\n",
            "Epoch 19/30\n",
            "45/45 [==============================] - 2s 48ms/step - loss: 0.0828 - root_mean_squared_error: 0.2878 - val_loss: 0.3064 - val_root_mean_squared_error: 0.5536\n",
            "Epoch 20/30\n",
            "45/45 [==============================] - 2s 48ms/step - loss: 0.0631 - root_mean_squared_error: 0.2512 - val_loss: 0.3296 - val_root_mean_squared_error: 0.5741\n",
            "Epoch 21/30\n",
            "45/45 [==============================] - 2s 46ms/step - loss: 0.0718 - root_mean_squared_error: 0.2679 - val_loss: 0.3584 - val_root_mean_squared_error: 0.5987\n",
            "Epoch 22/30\n",
            "45/45 [==============================] - 2s 46ms/step - loss: 0.0830 - root_mean_squared_error: 0.2880 - val_loss: 0.3299 - val_root_mean_squared_error: 0.5744\n",
            "Epoch 23/30\n",
            "45/45 [==============================] - 2s 47ms/step - loss: 0.0738 - root_mean_squared_error: 0.2716 - val_loss: 0.3419 - val_root_mean_squared_error: 0.5847\n",
            "Epoch 24/30\n",
            "45/45 [==============================] - 2s 47ms/step - loss: 0.0660 - root_mean_squared_error: 0.2569 - val_loss: 0.3450 - val_root_mean_squared_error: 0.5874\n",
            "Epoch 25/30\n",
            "45/45 [==============================] - 2s 49ms/step - loss: 0.0890 - root_mean_squared_error: 0.2982 - val_loss: 0.2934 - val_root_mean_squared_error: 0.5417\n",
            "Epoch 26/30\n",
            "45/45 [==============================] - 2s 46ms/step - loss: 0.0863 - root_mean_squared_error: 0.2938 - val_loss: 0.3317 - val_root_mean_squared_error: 0.5760\n",
            "Epoch 27/30\n",
            "45/45 [==============================] - 2s 47ms/step - loss: 0.0690 - root_mean_squared_error: 0.2627 - val_loss: 0.3707 - val_root_mean_squared_error: 0.6088\n",
            "Epoch 28/30\n",
            "45/45 [==============================] - 2s 47ms/step - loss: 0.0566 - root_mean_squared_error: 0.2379 - val_loss: 0.3428 - val_root_mean_squared_error: 0.5855\n",
            "Epoch 29/30\n",
            "45/45 [==============================] - 2s 47ms/step - loss: 0.0768 - root_mean_squared_error: 0.2771 - val_loss: 0.3442 - val_root_mean_squared_error: 0.5867\n",
            "Epoch 30/30\n",
            "45/45 [==============================] - 2s 47ms/step - loss: 0.0697 - root_mean_squared_error: 0.2640 - val_loss: 0.3829 - val_root_mean_squared_error: 0.6188\n"
          ]
        },
        {
          "output_type": "execute_result",
          "data": {
            "text/plain": [
              "<keras.callbacks.History at 0x7d2fb0753a90>"
            ]
          },
          "metadata": {},
          "execution_count": 81
        }
      ]
    },
    {
      "cell_type": "code",
      "source": [
        "# Build a model for hyperparameter tuning\n",
        "tf.keras.backend.clear_session()\n",
        "def build_model(hp):\n",
        "    hp_dropout = hp.Choice('dropout', values =  [0.1, 0.2, 0.3])\n",
        "    learning_rate = hp.Choice('learning_rate', values=[1e-3,1e-4])\n",
        "    optimizer = tf.keras.optimizers.Adam(learning_rate=learning_rate)\n",
        "\n",
        "    DefaultConv2D = partial(tf.keras.layers.Conv2D, kernel_size=3, padding=\"same\", data_format='channels_first',\n",
        "                        activation=\"relu\", kernel_initializer=\"he_normal\")\n",
        "    hp_model = tf.keras.Sequential([tf.keras.layers.InputLayer(input_shape=(3, 180, 360)),\n",
        "        DefaultConv2D(filters=16),\n",
        "        tf.keras.layers.MaxPool2D(),\n",
        "        DefaultConv2D(filters=32),\n",
        "        DefaultConv2D(filters=32),\n",
        "        tf.keras.layers.MaxPool2D(),\n",
        "        DefaultConv2D(filters=64),\n",
        "        DefaultConv2D(filters=64),\n",
        "        tf.keras.layers.MaxPool2D(),\n",
        "        tf.keras.layers.Flatten(),\n",
        "        tf.keras.layers.Dense(units=32, activation=\"relu\",\n",
        "                              kernel_initializer=\"he_normal\"),\n",
        "        tf.keras.layers.Dropout(hp_dropout),\n",
        "        tf.keras.layers.Dense(units=16, activation=\"relu\",\n",
        "                              kernel_initializer=\"he_normal\"),\n",
        "        tf.keras.layers.Dropout(hp_dropout),\n",
        "        tf.keras.layers.Dense(units=1)\n",
        "      ])\n",
        "    hp_model.compile(loss=\"mean_squared_error\", optimizer=optimizer, metrics=tf.keras.metrics.RootMeanSquaredError())\n",
        "    return  hp_model\n",
        "\n",
        "# tune hp_model hyperparameters using random search\n",
        "rnd_search_hp_model = kt.RandomSearch(build_model, objective=kt.Objective(\"val_root_mean_squared_error\", direction=\"min\"), max_trials=6,seed=42, overwrite=True)\n",
        "early_stopping_cb = tf.keras.callbacks.EarlyStopping(monitor=\"val_root_mean_squared_error\", patience=5, restore_best_weights=True)\n",
        "rnd_search_hp_model.search(train_dataset, validation_data=valid_dataset, epochs=50, callbacks=[early_stopping_cb])"
      ],
      "metadata": {
        "id": "5PenVLMEklE1",
        "colab": {
          "base_uri": "https://localhost:8080/"
        },
        "outputId": "1a446729-6733-4605-b924-bc23f7293842"
      },
      "id": "5PenVLMEklE1",
      "execution_count": 82,
      "outputs": [
        {
          "output_type": "stream",
          "name": "stdout",
          "text": [
            "Trial 6 Complete [00h 01m 45s]\n",
            "val_root_mean_squared_error: 0.46392542123794556\n",
            "\n",
            "Best val_root_mean_squared_error So Far: 0.46392542123794556\n",
            "Total elapsed time: 00h 05m 49s\n"
          ]
        }
      ]
    },
    {
      "cell_type": "code",
      "source": [
        "best_hp = rnd_search_hp_model.get_best_hyperparameters()[0]\n",
        "print('best dropout:',best_hp.get('dropout'))\n",
        "print('best learning rate:',best_hp.get('learning_rate'))"
      ],
      "metadata": {
        "colab": {
          "base_uri": "https://localhost:8080/"
        },
        "id": "odk64WUTt65c",
        "outputId": "00a83ec9-cd5a-4cb1-a797-d91a2bda785e"
      },
      "id": "odk64WUTt65c",
      "execution_count": 83,
      "outputs": [
        {
          "output_type": "stream",
          "name": "stdout",
          "text": [
            "best dropout: 0.1\n",
            "best learning rate: 0.0001\n"
          ]
        }
      ]
    },
    {
      "cell_type": "code",
      "source": [
        "# Build the model with the optimal hyperparameters and train it on the data for 50 epochs\n",
        "model_2 = rnd_search_hp_model.hypermodel.build(best_hp)\n",
        "model_2_history = model_2.fit(train_dataset, epochs=50, validation_data=valid_dataset)\n",
        "\n",
        "val_rms_per_epoch = model_2_history.history['val_root_mean_squared_error']\n",
        "best_epoch = val_rms_per_epoch.index(min(val_rms_per_epoch)) + 1\n",
        "print('Best epoch: %d' % (best_epoch,))"
      ],
      "metadata": {
        "colab": {
          "base_uri": "https://localhost:8080/"
        },
        "id": "ilD02NrU21xp",
        "outputId": "6ac504c4-6aae-4bd6-a3d3-38f8e74d7bfe"
      },
      "id": "ilD02NrU21xp",
      "execution_count": 84,
      "outputs": [
        {
          "output_type": "stream",
          "name": "stdout",
          "text": [
            "Epoch 1/50\n",
            "45/45 [==============================] - 5s 52ms/step - loss: 3.6813 - root_mean_squared_error: 1.9187 - val_loss: 0.7202 - val_root_mean_squared_error: 0.8486\n",
            "Epoch 2/50\n",
            "45/45 [==============================] - 2s 47ms/step - loss: 0.4537 - root_mean_squared_error: 0.6736 - val_loss: 0.4940 - val_root_mean_squared_error: 0.7028\n",
            "Epoch 3/50\n",
            "45/45 [==============================] - 2s 47ms/step - loss: 0.3539 - root_mean_squared_error: 0.5949 - val_loss: 0.7286 - val_root_mean_squared_error: 0.8536\n",
            "Epoch 4/50\n",
            "45/45 [==============================] - 2s 48ms/step - loss: 0.2807 - root_mean_squared_error: 0.5298 - val_loss: 0.4399 - val_root_mean_squared_error: 0.6632\n",
            "Epoch 5/50\n",
            "45/45 [==============================] - 2s 49ms/step - loss: 0.1884 - root_mean_squared_error: 0.4341 - val_loss: 0.4599 - val_root_mean_squared_error: 0.6781\n",
            "Epoch 6/50\n",
            "45/45 [==============================] - 2s 47ms/step - loss: 0.1580 - root_mean_squared_error: 0.3975 - val_loss: 0.4081 - val_root_mean_squared_error: 0.6388\n",
            "Epoch 7/50\n",
            "45/45 [==============================] - 2s 48ms/step - loss: 0.1585 - root_mean_squared_error: 0.3981 - val_loss: 0.3678 - val_root_mean_squared_error: 0.6064\n",
            "Epoch 8/50\n",
            "45/45 [==============================] - 2s 47ms/step - loss: 0.1213 - root_mean_squared_error: 0.3483 - val_loss: 0.4893 - val_root_mean_squared_error: 0.6995\n",
            "Epoch 9/50\n",
            "45/45 [==============================] - 2s 47ms/step - loss: 0.1348 - root_mean_squared_error: 0.3671 - val_loss: 0.3042 - val_root_mean_squared_error: 0.5515\n",
            "Epoch 10/50\n",
            "45/45 [==============================] - 2s 49ms/step - loss: 0.1415 - root_mean_squared_error: 0.3762 - val_loss: 0.4217 - val_root_mean_squared_error: 0.6494\n",
            "Epoch 11/50\n",
            "45/45 [==============================] - 2s 48ms/step - loss: 0.1310 - root_mean_squared_error: 0.3619 - val_loss: 0.3647 - val_root_mean_squared_error: 0.6039\n",
            "Epoch 12/50\n",
            "45/45 [==============================] - 2s 47ms/step - loss: 0.1039 - root_mean_squared_error: 0.3224 - val_loss: 0.3636 - val_root_mean_squared_error: 0.6030\n",
            "Epoch 13/50\n",
            "45/45 [==============================] - 2s 48ms/step - loss: 0.1024 - root_mean_squared_error: 0.3200 - val_loss: 0.4129 - val_root_mean_squared_error: 0.6426\n",
            "Epoch 14/50\n",
            "45/45 [==============================] - 2s 48ms/step - loss: 0.1039 - root_mean_squared_error: 0.3224 - val_loss: 0.2849 - val_root_mean_squared_error: 0.5337\n",
            "Epoch 15/50\n",
            "45/45 [==============================] - 2s 48ms/step - loss: 0.1088 - root_mean_squared_error: 0.3299 - val_loss: 0.3704 - val_root_mean_squared_error: 0.6086\n",
            "Epoch 16/50\n",
            "45/45 [==============================] - 2s 49ms/step - loss: 0.0968 - root_mean_squared_error: 0.3112 - val_loss: 0.3244 - val_root_mean_squared_error: 0.5696\n",
            "Epoch 17/50\n",
            "45/45 [==============================] - 2s 48ms/step - loss: 0.1028 - root_mean_squared_error: 0.3207 - val_loss: 0.3040 - val_root_mean_squared_error: 0.5514\n",
            "Epoch 18/50\n",
            "45/45 [==============================] - 2s 48ms/step - loss: 0.1059 - root_mean_squared_error: 0.3254 - val_loss: 0.2998 - val_root_mean_squared_error: 0.5475\n",
            "Epoch 19/50\n",
            "45/45 [==============================] - 2s 48ms/step - loss: 0.0753 - root_mean_squared_error: 0.2745 - val_loss: 0.3821 - val_root_mean_squared_error: 0.6181\n",
            "Epoch 20/50\n",
            "45/45 [==============================] - 2s 48ms/step - loss: 0.0795 - root_mean_squared_error: 0.2820 - val_loss: 0.4145 - val_root_mean_squared_error: 0.6438\n",
            "Epoch 21/50\n",
            "45/45 [==============================] - 2s 54ms/step - loss: 0.0751 - root_mean_squared_error: 0.2740 - val_loss: 0.3449 - val_root_mean_squared_error: 0.5873\n",
            "Epoch 22/50\n",
            "45/45 [==============================] - 2s 49ms/step - loss: 0.0692 - root_mean_squared_error: 0.2630 - val_loss: 0.2997 - val_root_mean_squared_error: 0.5474\n",
            "Epoch 23/50\n",
            "45/45 [==============================] - 2s 48ms/step - loss: 0.0684 - root_mean_squared_error: 0.2616 - val_loss: 0.3808 - val_root_mean_squared_error: 0.6171\n",
            "Epoch 24/50\n",
            "45/45 [==============================] - 2s 49ms/step - loss: 0.0803 - root_mean_squared_error: 0.2833 - val_loss: 0.3167 - val_root_mean_squared_error: 0.5628\n",
            "Epoch 25/50\n",
            "45/45 [==============================] - 2s 48ms/step - loss: 0.0599 - root_mean_squared_error: 0.2448 - val_loss: 0.3850 - val_root_mean_squared_error: 0.6204\n",
            "Epoch 26/50\n",
            "45/45 [==============================] - 2s 49ms/step - loss: 0.0960 - root_mean_squared_error: 0.3098 - val_loss: 0.3156 - val_root_mean_squared_error: 0.5618\n",
            "Epoch 27/50\n",
            "45/45 [==============================] - 2s 50ms/step - loss: 0.0642 - root_mean_squared_error: 0.2534 - val_loss: 0.3327 - val_root_mean_squared_error: 0.5768\n",
            "Epoch 28/50\n",
            "45/45 [==============================] - 2s 49ms/step - loss: 0.0653 - root_mean_squared_error: 0.2555 - val_loss: 0.3674 - val_root_mean_squared_error: 0.6062\n",
            "Epoch 29/50\n",
            "45/45 [==============================] - 2s 49ms/step - loss: 0.0718 - root_mean_squared_error: 0.2680 - val_loss: 0.3643 - val_root_mean_squared_error: 0.6036\n",
            "Epoch 30/50\n",
            "45/45 [==============================] - 2s 48ms/step - loss: 0.0682 - root_mean_squared_error: 0.2612 - val_loss: 0.3542 - val_root_mean_squared_error: 0.5952\n",
            "Epoch 31/50\n",
            "45/45 [==============================] - 2s 49ms/step - loss: 0.0793 - root_mean_squared_error: 0.2816 - val_loss: 0.3683 - val_root_mean_squared_error: 0.6069\n",
            "Epoch 32/50\n",
            "45/45 [==============================] - 2s 52ms/step - loss: 0.0661 - root_mean_squared_error: 0.2570 - val_loss: 0.3396 - val_root_mean_squared_error: 0.5828\n",
            "Epoch 33/50\n",
            "45/45 [==============================] - 2s 48ms/step - loss: 0.0815 - root_mean_squared_error: 0.2855 - val_loss: 0.3402 - val_root_mean_squared_error: 0.5833\n",
            "Epoch 34/50\n",
            "45/45 [==============================] - 2s 48ms/step - loss: 0.0715 - root_mean_squared_error: 0.2675 - val_loss: 0.3315 - val_root_mean_squared_error: 0.5758\n",
            "Epoch 35/50\n",
            "45/45 [==============================] - 2s 48ms/step - loss: 0.0505 - root_mean_squared_error: 0.2247 - val_loss: 0.3883 - val_root_mean_squared_error: 0.6231\n",
            "Epoch 36/50\n",
            "45/45 [==============================] - 2s 48ms/step - loss: 0.0593 - root_mean_squared_error: 0.2434 - val_loss: 0.3595 - val_root_mean_squared_error: 0.5996\n",
            "Epoch 37/50\n",
            "45/45 [==============================] - 2s 48ms/step - loss: 0.0631 - root_mean_squared_error: 0.2512 - val_loss: 0.3413 - val_root_mean_squared_error: 0.5842\n",
            "Epoch 38/50\n",
            "45/45 [==============================] - 2s 50ms/step - loss: 0.0625 - root_mean_squared_error: 0.2500 - val_loss: 0.3573 - val_root_mean_squared_error: 0.5977\n",
            "Epoch 39/50\n",
            "45/45 [==============================] - 2s 48ms/step - loss: 0.0677 - root_mean_squared_error: 0.2603 - val_loss: 0.3707 - val_root_mean_squared_error: 0.6089\n",
            "Epoch 40/50\n",
            "45/45 [==============================] - 2s 48ms/step - loss: 0.0721 - root_mean_squared_error: 0.2685 - val_loss: 0.3343 - val_root_mean_squared_error: 0.5782\n",
            "Epoch 41/50\n",
            "45/45 [==============================] - 2s 48ms/step - loss: 0.0574 - root_mean_squared_error: 0.2396 - val_loss: 0.3509 - val_root_mean_squared_error: 0.5924\n",
            "Epoch 42/50\n",
            "45/45 [==============================] - 2s 48ms/step - loss: 0.0621 - root_mean_squared_error: 0.2493 - val_loss: 0.3994 - val_root_mean_squared_error: 0.6320\n",
            "Epoch 43/50\n",
            "45/45 [==============================] - 2s 50ms/step - loss: 0.0663 - root_mean_squared_error: 0.2575 - val_loss: 0.3267 - val_root_mean_squared_error: 0.5715\n",
            "Epoch 44/50\n",
            "45/45 [==============================] - 2s 50ms/step - loss: 0.0649 - root_mean_squared_error: 0.2547 - val_loss: 0.3779 - val_root_mean_squared_error: 0.6147\n",
            "Epoch 45/50\n",
            "45/45 [==============================] - 2s 48ms/step - loss: 0.0599 - root_mean_squared_error: 0.2448 - val_loss: 0.3239 - val_root_mean_squared_error: 0.5691\n",
            "Epoch 46/50\n",
            "45/45 [==============================] - 2s 48ms/step - loss: 0.0476 - root_mean_squared_error: 0.2183 - val_loss: 0.3198 - val_root_mean_squared_error: 0.5655\n",
            "Epoch 47/50\n",
            "45/45 [==============================] - 2s 48ms/step - loss: 0.0566 - root_mean_squared_error: 0.2379 - val_loss: 0.3027 - val_root_mean_squared_error: 0.5502\n",
            "Epoch 48/50\n",
            "45/45 [==============================] - 2s 49ms/step - loss: 0.0442 - root_mean_squared_error: 0.2103 - val_loss: 0.3520 - val_root_mean_squared_error: 0.5933\n",
            "Epoch 49/50\n",
            "45/45 [==============================] - 2s 50ms/step - loss: 0.0537 - root_mean_squared_error: 0.2317 - val_loss: 0.3275 - val_root_mean_squared_error: 0.5723\n",
            "Epoch 50/50\n",
            "45/45 [==============================] - 2s 48ms/step - loss: 0.0601 - root_mean_squared_error: 0.2451 - val_loss: 0.2994 - val_root_mean_squared_error: 0.5472\n",
            "Best epoch: 14\n"
          ]
        }
      ]
    },
    {
      "cell_type": "code",
      "execution_count": 85,
      "id": "32f7e17e",
      "metadata": {
        "id": "32f7e17e",
        "colab": {
          "base_uri": "https://localhost:8080/"
        },
        "outputId": "0993c492-f916-4922-979a-dcab4e3d09b3"
      },
      "outputs": [
        {
          "output_type": "stream",
          "name": "stdout",
          "text": [
            "Epoch 1/14\n",
            "45/45 [==============================] - 5s 52ms/step - loss: 29.3356 - root_mean_squared_error: 5.4162 - val_loss: 0.9719 - val_root_mean_squared_error: 0.9858\n",
            "Epoch 2/14\n",
            "45/45 [==============================] - 2s 48ms/step - loss: 0.8557 - root_mean_squared_error: 0.9250 - val_loss: 0.8079 - val_root_mean_squared_error: 0.8988\n",
            "Epoch 3/14\n",
            "45/45 [==============================] - 2s 47ms/step - loss: 0.6379 - root_mean_squared_error: 0.7987 - val_loss: 0.8093 - val_root_mean_squared_error: 0.8996\n",
            "Epoch 4/14\n",
            "45/45 [==============================] - 2s 49ms/step - loss: 0.6349 - root_mean_squared_error: 0.7968 - val_loss: 0.8083 - val_root_mean_squared_error: 0.8991\n",
            "Epoch 5/14\n",
            "45/45 [==============================] - 2s 47ms/step - loss: 0.6350 - root_mean_squared_error: 0.7969 - val_loss: 0.8091 - val_root_mean_squared_error: 0.8995\n",
            "Epoch 6/14\n",
            "45/45 [==============================] - 2s 47ms/step - loss: 0.6370 - root_mean_squared_error: 0.7981 - val_loss: 0.8097 - val_root_mean_squared_error: 0.8998\n",
            "Epoch 7/14\n",
            "45/45 [==============================] - 2s 46ms/step - loss: 0.6371 - root_mean_squared_error: 0.7982 - val_loss: 0.8098 - val_root_mean_squared_error: 0.8999\n",
            "Epoch 8/14\n",
            "45/45 [==============================] - 2s 47ms/step - loss: 0.6368 - root_mean_squared_error: 0.7980 - val_loss: 0.8098 - val_root_mean_squared_error: 0.8999\n",
            "Epoch 9/14\n",
            "45/45 [==============================] - 2s 48ms/step - loss: 0.6369 - root_mean_squared_error: 0.7981 - val_loss: 0.8098 - val_root_mean_squared_error: 0.8999\n",
            "Epoch 10/14\n",
            "45/45 [==============================] - 2s 48ms/step - loss: 0.6366 - root_mean_squared_error: 0.7979 - val_loss: 0.8097 - val_root_mean_squared_error: 0.8999\n",
            "Epoch 11/14\n",
            "45/45 [==============================] - 2s 47ms/step - loss: 0.6361 - root_mean_squared_error: 0.7975 - val_loss: 0.8097 - val_root_mean_squared_error: 0.8999\n",
            "Epoch 12/14\n",
            "45/45 [==============================] - 2s 47ms/step - loss: 0.6362 - root_mean_squared_error: 0.7976 - val_loss: 0.8097 - val_root_mean_squared_error: 0.8998\n",
            "Epoch 13/14\n",
            "45/45 [==============================] - 2s 47ms/step - loss: 0.6366 - root_mean_squared_error: 0.7979 - val_loss: 0.8097 - val_root_mean_squared_error: 0.8999\n",
            "Epoch 14/14\n",
            "45/45 [==============================] - 2s 47ms/step - loss: 0.6373 - root_mean_squared_error: 0.7983 - val_loss: 0.8097 - val_root_mean_squared_error: 0.8998\n"
          ]
        },
        {
          "output_type": "execute_result",
          "data": {
            "text/plain": [
              "<keras.callbacks.History at 0x7d2fa8701e40>"
            ]
          },
          "metadata": {},
          "execution_count": 85
        }
      ],
      "source": [
        "# Train the best deep model on the best epoch\n",
        "model_3 = rnd_search_hp_model.hypermodel.build(best_hp)\n",
        "\n",
        "# Retrain the model\n",
        "model_3.fit(train_dataset, epochs=best_epoch, validation_data=valid_dataset)"
      ]
    },
    {
      "cell_type": "markdown",
      "source": [
        "**The best model is the Support Vector Machine Regressor**"
      ],
      "metadata": {
        "id": "f09rmcR_-ano"
      },
      "id": "f09rmcR_-ano"
    },
    {
      "cell_type": "code",
      "source": [],
      "metadata": {
        "id": "6qcTZKJ__7eT"
      },
      "id": "6qcTZKJ__7eT",
      "execution_count": null,
      "outputs": []
    }
  ],
  "metadata": {
    "kernelspec": {
      "display_name": "Python 3",
      "name": "python3"
    },
    "language_info": {
      "codemirror_mode": {
        "name": "ipython",
        "version": 3
      },
      "file_extension": ".py",
      "mimetype": "text/x-python",
      "name": "python",
      "nbconvert_exporter": "python",
      "pygments_lexer": "ipython3",
      "version": "3.11.3"
    },
    "colab": {
      "provenance": [],
      "gpuType": "T4"
    },
    "accelerator": "GPU"
  },
  "nbformat": 4,
  "nbformat_minor": 5
}